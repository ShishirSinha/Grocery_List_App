{
  "nbformat": 4,
  "nbformat_minor": 0,
  "metadata": {
    "colab": {
      "name": "Major_project_code.ipynb",
      "provenance": [],
      "collapsed_sections": [],
      "include_colab_link": true
    },
    "kernelspec": {
      "name": "python3",
      "display_name": "Python 3"
    },
    "accelerator": "GPU"
  },
  "cells": [
    {
      "cell_type": "markdown",
      "metadata": {
        "id": "view-in-github",
        "colab_type": "text"
      },
      "source": [
        "<a href=\"https://colab.research.google.com/github/ShishirSinha/Grocery_List_App/blob/master/Major_project_code.ipynb\" target=\"_parent\"><img src=\"https://colab.research.google.com/assets/colab-badge.svg\" alt=\"Open In Colab\"/></a>"
      ]
    },
    {
      "cell_type": "code",
      "metadata": {
        "id": "xZVW7R7Yji4M",
        "colab": {
          "base_uri": "https://localhost:8080/"
        },
        "outputId": "822f80e4-2265-4e1f-df4d-9d4af5c4c071"
      },
      "source": [
        "from google.colab import drive\n",
        "drive.mount('/content/gdrive')"
      ],
      "execution_count": 1,
      "outputs": [
        {
          "output_type": "stream",
          "text": [
            "Drive already mounted at /content/gdrive; to attempt to forcibly remount, call drive.mount(\"/content/gdrive\", force_remount=True).\n"
          ],
          "name": "stdout"
        }
      ]
    },
    {
      "cell_type": "code",
      "metadata": {
        "id": "utpirJ1Mj1lK",
        "colab": {
          "base_uri": "https://localhost:8080/"
        },
        "outputId": "fb79d1b1-a212-4b5e-db14-f8bfca5db635"
      },
      "source": [
        "#changing the working directory\n",
        "%cd /content/gdrive/My Drive/Kaggle/amazon_review"
      ],
      "execution_count": 2,
      "outputs": [
        {
          "output_type": "stream",
          "text": [
            "/content/gdrive/My Drive/Kaggle/amazon_review\n"
          ],
          "name": "stdout"
        }
      ]
    },
    {
      "cell_type": "code",
      "metadata": {
        "colab": {
          "base_uri": "https://localhost:8080/"
        },
        "id": "-Zz8Zz7UQSqe",
        "outputId": "6ee2d608-1dc2-4c63-ca46-26029aff8306"
      },
      "source": [
        "# import the libraries\n",
        "\n",
        "import tensorflow as tf\n",
        "import os\n",
        "from tensorflow.python.keras.layers import Layer\n",
        "from tensorflow.python.keras import backend as K\n",
        "import numpy as np\n",
        "import pandas as pd \n",
        "import matplotlib.pyplot as plt\n",
        "import re\n",
        "from bs4 import BeautifulSoup\n",
        "from keras.preprocessing.text import Tokenizer \n",
        "from keras.preprocessing.sequence import pad_sequences\n",
        "from nltk.corpus import stopwords\n",
        "from tensorflow.keras.layers import Input, LSTM, Embedding, Dense, Concatenate, TimeDistributed\n",
        "from tensorflow.keras.models import Model\n",
        "from tensorflow.keras.callbacks import EarlyStopping\n",
        "import warnings\n",
        "pd.set_option(\"display.max_colwidth\", 200)\n",
        "warnings.filterwarnings(\"ignore\")\n",
        "import nltk\n",
        "nltk.download('stopwords')\n",
        "from sklearn.model_selection import train_test_split"
      ],
      "execution_count": 3,
      "outputs": [
        {
          "output_type": "stream",
          "text": [
            "[nltk_data] Downloading package stopwords to /root/nltk_data...\n",
            "[nltk_data]   Package stopwords is already up-to-date!\n"
          ],
          "name": "stdout"
        }
      ]
    },
    {
      "cell_type": "code",
      "metadata": {
        "id": "0_dttd-Lj8iQ"
      },
      "source": [
        "# Custom attention later \n",
        "\n",
        "class AttentionLayer(Layer):\n",
        "    \"\"\"\n",
        "    This class implements Bahdanau attention (https://arxiv.org/pdf/1409.0473.pdf).\n",
        "    There are three sets of weights introduced W_a, U_a, and V_a\n",
        "     \"\"\"\n",
        "\n",
        "    def __init__(self, **kwargs):\n",
        "        super(AttentionLayer, self).__init__(**kwargs)\n",
        "\n",
        "    def build(self, input_shape):\n",
        "        assert isinstance(input_shape, list)\n",
        "        # Create a trainable weight variable for this layer.\n",
        "\n",
        "        self.W_a = self.add_weight(name='W_a',\n",
        "                                   shape=tf.TensorShape((input_shape[0][2], input_shape[0][2])),\n",
        "                                   initializer='uniform',\n",
        "                                   trainable=True)\n",
        "        self.U_a = self.add_weight(name='U_a',\n",
        "                                   shape=tf.TensorShape((input_shape[1][2], input_shape[0][2])),\n",
        "                                   initializer='uniform',\n",
        "                                   trainable=True)\n",
        "        self.V_a = self.add_weight(name='V_a',\n",
        "                                   shape=tf.TensorShape((input_shape[0][2], 1)),\n",
        "                                   initializer='uniform',\n",
        "                                   trainable=True)\n",
        "\n",
        "        super(AttentionLayer, self).build(input_shape)  # Be sure to call this at the end\n",
        "\n",
        "    def call(self, inputs, verbose=False):\n",
        "        \"\"\"\n",
        "        inputs: [encoder_output_sequence, decoder_output_sequence]\n",
        "        \"\"\"\n",
        "        assert type(inputs) == list\n",
        "        encoder_out_seq, decoder_out_seq = inputs\n",
        "        if verbose:\n",
        "            print('encoder_out_seq>', encoder_out_seq.shape)\n",
        "            print('decoder_out_seq>', decoder_out_seq.shape)\n",
        "\n",
        "        def energy_step(inputs, states):\n",
        "            \"\"\" Step function for computing energy for a single decoder state \"\"\"\n",
        "\n",
        "            assert_msg = \"States must be a list. However states {} is of type {}\".format(states, type(states))\n",
        "            assert isinstance(states, list) or isinstance(states, tuple), assert_msg\n",
        "\n",
        "            \"\"\" Some parameters required for shaping tensors\"\"\"\n",
        "            en_seq_len, en_hidden = encoder_out_seq.shape[1], encoder_out_seq.shape[2]\n",
        "            de_hidden = inputs.shape[-1]\n",
        "\n",
        "            \"\"\" Computing S.Wa where S=[s0, s1, ..., si]\"\"\"\n",
        "            # <= batch_size*en_seq_len, latent_dim\n",
        "            reshaped_enc_outputs = K.reshape(encoder_out_seq, (-1, en_hidden))\n",
        "            # <= batch_size*en_seq_len, latent_dim\n",
        "            W_a_dot_s = K.reshape(K.dot(reshaped_enc_outputs, self.W_a), (-1, en_seq_len, en_hidden))\n",
        "            if verbose:\n",
        "                print('wa.s>',W_a_dot_s.shape)\n",
        "\n",
        "            \"\"\" Computing hj.Ua \"\"\"\n",
        "            U_a_dot_h = K.expand_dims(K.dot(inputs, self.U_a), 1)  # <= batch_size, 1, latent_dim\n",
        "            if verbose:\n",
        "                print('Ua.h>',U_a_dot_h.shape)\n",
        "\n",
        "            \"\"\" tanh(S.Wa + hj.Ua) \"\"\"\n",
        "            # <= batch_size*en_seq_len, latent_dim\n",
        "            reshaped_Ws_plus_Uh = K.tanh(K.reshape(W_a_dot_s + U_a_dot_h, (-1, en_hidden)))\n",
        "            if verbose:\n",
        "                print('Ws+Uh>', reshaped_Ws_plus_Uh.shape)\n",
        "\n",
        "            \"\"\" softmax(va.tanh(S.Wa + hj.Ua)) \"\"\"\n",
        "            # <= batch_size, en_seq_len\n",
        "            e_i = K.reshape(K.dot(reshaped_Ws_plus_Uh, self.V_a), (-1, en_seq_len))\n",
        "            # <= batch_size, en_seq_len\n",
        "            e_i = K.softmax(e_i)\n",
        "\n",
        "            if verbose:\n",
        "                print('ei>', e_i.shape)\n",
        "\n",
        "            return e_i, [e_i]\n",
        "\n",
        "        def context_step(inputs, states):\n",
        "            \"\"\" Step function for computing ci using ei \"\"\"\n",
        "            # <= batch_size, hidden_size\n",
        "            c_i = K.sum(encoder_out_seq * K.expand_dims(inputs, -1), axis=1)\n",
        "            if verbose:\n",
        "                print('ci>', c_i.shape)\n",
        "            return c_i, [c_i]\n",
        "\n",
        "        def create_inital_state(inputs, hidden_size):\n",
        "            # We are not using initial states, but need to pass something to K.rnn funciton\n",
        "            fake_state = K.zeros_like(inputs)  # <= (batch_size, enc_seq_len, latent_dim\n",
        "            fake_state = K.sum(fake_state, axis=[1, 2])  # <= (batch_size)\n",
        "            fake_state = K.expand_dims(fake_state)  # <= (batch_size, 1)\n",
        "            fake_state = K.tile(fake_state, [1, hidden_size])  # <= (batch_size, latent_dim\n",
        "            return fake_state\n",
        "\n",
        "        fake_state_c = create_inital_state(encoder_out_seq, encoder_out_seq.shape[-1])\n",
        "        fake_state_e = create_inital_state(encoder_out_seq, encoder_out_seq.shape[1])  # <= (batch_size, enc_seq_len, latent_dim\n",
        "\n",
        "        \"\"\" Computing energy outputs \"\"\"\n",
        "        # e_outputs => (batch_size, de_seq_len, en_seq_len)\n",
        "        last_out, e_outputs, _ = K.rnn(\n",
        "            energy_step, decoder_out_seq, [fake_state_e],\n",
        "        )\n",
        "\n",
        "        \"\"\" Computing context vectors \"\"\"\n",
        "        last_out, c_outputs, _ = K.rnn(\n",
        "            context_step, e_outputs, [fake_state_c],\n",
        "        )\n",
        "\n",
        "        return c_outputs, e_outputs\n",
        "\n",
        "    def compute_output_shape(self, input_shape):\n",
        "        \"\"\" Outputs produced by the layer \"\"\"\n",
        "        return [\n",
        "            tf.TensorShape((input_shape[1][0], input_shape[1][1], input_shape[1][2])),\n",
        "            tf.TensorShape((input_shape[1][0], input_shape[1][1], input_shape[0][1]))\n",
        "        ]"
      ],
      "execution_count": 4,
      "outputs": []
    },
    {
      "cell_type": "code",
      "metadata": {
        "id": "Pw9NzHQYkCM4"
      },
      "source": [
        "# Load the dataset\n",
        "data=pd.read_csv(\"/content/gdrive/MyDrive/Kaggle/amazon_review/Reviews_neg.csv\")"
      ],
      "execution_count": 5,
      "outputs": []
    },
    {
      "cell_type": "code",
      "metadata": {
        "id": "BL42gBfHkEyE"
      },
      "source": [
        "# Data Preprocessing phase begins\n",
        "\n",
        "data.drop_duplicates(subset=['Text'],inplace=True)  #dropping duplicates\n",
        "data.dropna(axis=0,inplace=True)  #dropping na"
      ],
      "execution_count": 6,
      "outputs": []
    },
    {
      "cell_type": "code",
      "metadata": {
        "id": "kuRkmn2akG1j",
        "colab": {
          "base_uri": "https://localhost:8080/"
        },
        "outputId": "9d3bccbe-5015-408a-c993-9c79b35b80c8"
      },
      "source": [
        "data.info()"
      ],
      "execution_count": 7,
      "outputs": [
        {
          "output_type": "stream",
          "text": [
            "<class 'pandas.core.frame.DataFrame'>\n",
            "Int64Index: 8919 entries, 0 to 12653\n",
            "Data columns (total 3 columns):\n",
            " #   Column      Non-Null Count  Dtype \n",
            "---  ------      --------------  ----- \n",
            " 0   Unnamed: 0  8919 non-null   int64 \n",
            " 1   Summary     8919 non-null   object\n",
            " 2   Text        8919 non-null   object\n",
            "dtypes: int64(1), object(2)\n",
            "memory usage: 278.7+ KB\n"
          ],
          "name": "stdout"
        }
      ]
    },
    {
      "cell_type": "code",
      "metadata": {
        "id": "J8uLWrF7kJEj"
      },
      "source": [
        "contraction_mapping = {\"ain't\": \"is not\", \"aren't\": \"are not\",\"can't\": \"cannot\", \"'cause\": \"because\", \"could've\": \"could have\", \"couldn't\": \"could not\",\n",
        "                           \"didn't\": \"did not\",  \"doesn't\": \"does not\", \"don't\": \"do not\", \"hadn't\": \"had not\", \"hasn't\": \"has not\", \"haven't\": \"have not\",\n",
        "                           \"he'd\": \"he would\",\"he'll\": \"he will\", \"he's\": \"he is\", \"how'd\": \"how did\", \"how'd'y\": \"how do you\", \"how'll\": \"how will\", \"how's\": \"how is\",\n",
        "                           \"I'd\": \"I would\", \"I'd've\": \"I would have\", \"I'll\": \"I will\", \"I'll've\": \"I will have\",\"I'm\": \"I am\", \"I've\": \"I have\", \"i'd\": \"i would\",\n",
        "                           \"i'd've\": \"i would have\", \"i'll\": \"i will\",  \"i'll've\": \"i will have\",\"i'm\": \"i am\", \"i've\": \"i have\", \"isn't\": \"is not\", \"it'd\": \"it would\",\n",
        "                           \"it'd've\": \"it would have\", \"it'll\": \"it will\", \"it'll've\": \"it will have\",\"it's\": \"it is\", \"let's\": \"let us\", \"ma'am\": \"madam\",\n",
        "                           \"mayn't\": \"may not\", \"might've\": \"might have\",\"mightn't\": \"might not\",\"mightn't've\": \"might not have\", \"must've\": \"must have\",\n",
        "                           \"mustn't\": \"must not\", \"mustn't've\": \"must not have\", \"needn't\": \"need not\", \"needn't've\": \"need not have\",\"o'clock\": \"of the clock\",\n",
        "                           \"oughtn't\": \"ought not\", \"oughtn't've\": \"ought not have\", \"shan't\": \"shall not\", \"sha'n't\": \"shall not\", \"shan't've\": \"shall not have\",\n",
        "                           \"she'd\": \"she would\", \"she'd've\": \"she would have\", \"she'll\": \"she will\", \"she'll've\": \"she will have\", \"she's\": \"she is\",\n",
        "                           \"should've\": \"should have\", \"shouldn't\": \"should not\", \"shouldn't've\": \"should not have\", \"so've\": \"so have\",\"so's\": \"so as\",\n",
        "                           \"this's\": \"this is\",\"that'd\": \"that would\", \"that'd've\": \"that would have\", \"that's\": \"that is\", \"there'd\": \"there would\",\n",
        "                           \"there'd've\": \"there would have\", \"there's\": \"there is\", \"here's\": \"here is\",\"they'd\": \"they would\", \"they'd've\": \"they would have\",\n",
        "                           \"they'll\": \"they will\", \"they'll've\": \"they will have\", \"they're\": \"they are\", \"they've\": \"they have\", \"to've\": \"to have\",\n",
        "                           \"wasn't\": \"was not\", \"we'd\": \"we would\", \"we'd've\": \"we would have\", \"we'll\": \"we will\", \"we'll've\": \"we will have\", \"we're\": \"we are\",\n",
        "                           \"we've\": \"we have\", \"weren't\": \"were not\", \"what'll\": \"what will\", \"what'll've\": \"what will have\", \"what're\": \"what are\",\n",
        "                           \"what's\": \"what is\", \"what've\": \"what have\", \"when's\": \"when is\", \"when've\": \"when have\", \"where'd\": \"where did\", \"where's\": \"where is\",\n",
        "                           \"where've\": \"where have\", \"who'll\": \"who will\", \"who'll've\": \"who will have\", \"who's\": \"who is\", \"who've\": \"who have\",\n",
        "                           \"why's\": \"why is\", \"why've\": \"why have\", \"will've\": \"will have\", \"won't\": \"will not\", \"won't've\": \"will not have\",\n",
        "                           \"would've\": \"would have\", \"wouldn't\": \"would not\", \"wouldn't've\": \"would not have\", \"y'all\": \"you all\",\n",
        "                           \"y'all'd\": \"you all would\",\"y'all'd've\": \"you all would have\",\"y'all're\": \"you all are\",\"y'all've\": \"you all have\",\n",
        "                           \"you'd\": \"you would\", \"you'd've\": \"you would have\", \"you'll\": \"you will\", \"you'll've\": \"you will have\",\n",
        "                           \"you're\": \"you are\", \"you've\": \"you have\"}"
      ],
      "execution_count": 8,
      "outputs": []
    },
    {
      "cell_type": "code",
      "metadata": {
        "id": "djSE-LpAkOXc"
      },
      "source": [
        "stop_words = set(stopwords.words('english')) \n",
        "\n",
        "def text_cleaner(text,num):\n",
        "    newString = text.lower()\n",
        "    newString = BeautifulSoup(newString, \"lxml\").text\n",
        "    newString = re.sub(r'\\([^)]*\\)', '', newString)\n",
        "    newString = re.sub('\"','', newString)\n",
        "    newString = ' '.join([contraction_mapping[t] if t in contraction_mapping else t for t in newString.split(\" \")])    \n",
        "    newString = re.sub(r\"'s\\b\",\"\",newString)\n",
        "    newString = re.sub(\"[^a-zA-Z]\", \" \", newString) \n",
        "    newString = re.sub('[m]{2,}', 'mm', newString)\n",
        "    if(num==0):\n",
        "        tokens = [w for w in newString.split() if not w in stop_words]\n",
        "    else:\n",
        "        tokens=newString.split()\n",
        "    long_words=[]\n",
        "    for i in tokens:\n",
        "        if len(i)>1:                        #removing short word\n",
        "            long_words.append(i)   \n",
        "    return (\" \".join(long_words)).strip()"
      ],
      "execution_count": 9,
      "outputs": []
    },
    {
      "cell_type": "code",
      "metadata": {
        "id": "resMd8tKkRI6"
      },
      "source": [
        "cleaned_text = []\n",
        "for t in data['Text']:\n",
        "    cleaned_text.append(text_cleaner(t,0))"
      ],
      "execution_count": 10,
      "outputs": []
    },
    {
      "cell_type": "code",
      "metadata": {
        "id": "trKC4lCWkcHc"
      },
      "source": [
        "cleaned_summary = []\n",
        "for t in data['Summary']:\n",
        "    cleaned_summary.append(text_cleaner(t,1))"
      ],
      "execution_count": 11,
      "outputs": []
    },
    {
      "cell_type": "code",
      "metadata": {
        "id": "mk4UFrt7knok"
      },
      "source": [
        "data['cleaned_text']=cleaned_text\n",
        "data['cleaned_summary']=cleaned_summary"
      ],
      "execution_count": 12,
      "outputs": []
    },
    {
      "cell_type": "code",
      "metadata": {
        "id": "6IOKngQykpZu"
      },
      "source": [
        "data.replace('', np.nan, inplace=True)\n",
        "data.dropna(axis=0,inplace=True)"
      ],
      "execution_count": 13,
      "outputs": []
    },
    {
      "cell_type": "code",
      "metadata": {
        "id": "rwoSVh7FktTo",
        "colab": {
          "base_uri": "https://localhost:8080/",
          "height": 281
        },
        "outputId": "2242880f-a7c1-4d50-bf10-cb41f0f05c9e"
      },
      "source": [
        "text_word_count = []\n",
        "summary_word_count = []\n",
        "\n",
        "# populate the lists with sentence lengths\n",
        "for i in data['cleaned_text']:\n",
        "      text_word_count.append(len(i.split()))\n",
        "\n",
        "for i in data['cleaned_summary']:\n",
        "      summary_word_count.append(len(i.split()))\n",
        "\n",
        "length_df = pd.DataFrame({'text':text_word_count, 'summary':summary_word_count})\n",
        "\n",
        "length_df.hist(bins = 30)\n",
        "plt.show()"
      ],
      "execution_count": 14,
      "outputs": [
        {
          "output_type": "display_data",
          "data": {
            "image/png": "[encoded data removed]",
            "text/plain": [
              "<Figure size 432x288 with 2 Axes>"
            ]
          },
          "metadata": {
            "tags": [],
            "needs_background": "light"
          }
        }
      ]
    },
    {
      "cell_type": "code",
      "metadata": {
        "colab": {
          "base_uri": "https://localhost:8080/"
        },
        "id": "a6VHPcPetnMF",
        "outputId": "47bebed0-faea-47e7-d767-e39fc284a9b1"
      },
      "source": [
        "cnt=0\n",
        "for i in data['cleaned_text']:\n",
        "    if(len(i.split())<=30):\n",
        "        cnt=cnt+1\n",
        "print('% of reviews with length <= 30  :  ', cnt/len(data['cleaned_text'])*100)"
      ],
      "execution_count": 15,
      "outputs": [
        {
          "output_type": "stream",
          "text": [
            "% of reviews with length <= 30  :   51.70983294091266\n"
          ],
          "name": "stdout"
        }
      ]
    },
    {
      "cell_type": "code",
      "metadata": {
        "id": "8czDF_D6kxpb",
        "colab": {
          "base_uri": "https://localhost:8080/"
        },
        "outputId": "00507480-98e4-4508-cc73-bd9f49162d39"
      },
      "source": [
        "cnt=0\n",
        "for i in data['cleaned_summary']:\n",
        "    if(len(i.split())<=8):\n",
        "        cnt=cnt+1\n",
        "print('% of summaries with length <= 8  :  ', cnt/len(data['cleaned_summary'])*100)"
      ],
      "execution_count": 16,
      "outputs": [
        {
          "output_type": "stream",
          "text": [
            "% of summaries with length <= 8  :   92.10673842359009\n"
          ],
          "name": "stdout"
        }
      ]
    },
    {
      "cell_type": "code",
      "metadata": {
        "id": "13LGSG-Xk0JL"
      },
      "source": [
        "max_text_len=30\n",
        "max_summary_len=8"
      ],
      "execution_count": 17,
      "outputs": []
    },
    {
      "cell_type": "code",
      "metadata": {
        "id": "Qh_H8uPtk2s4"
      },
      "source": [
        "cleaned_text =np.array(data['cleaned_text'])\n",
        "cleaned_summary=np.array(data['cleaned_summary'])\n",
        "\n",
        "short_text=[]\n",
        "short_summary=[]\n",
        "\n",
        "for i in range(len(cleaned_text)):\n",
        "    if(len(cleaned_summary[i].split())<=max_summary_len and len(cleaned_text[i].split())<=max_text_len):\n",
        "        short_text.append(cleaned_text[i])\n",
        "        short_summary.append(cleaned_summary[i])\n",
        "        \n",
        "df=pd.DataFrame({'text':short_text,'summary':short_summary})"
      ],
      "execution_count": 18,
      "outputs": []
    },
    {
      "cell_type": "code",
      "metadata": {
        "id": "L1mGMMsfJar_",
        "colab": {
          "base_uri": "https://localhost:8080/"
        },
        "outputId": "72450e61-879b-4ecf-8210-b9b649fadf86"
      },
      "source": [
        "print(df['text'])"
      ],
      "execution_count": 19,
      "outputs": [
        {
          "output_type": "stream",
          "text": [
            "0                                                              love eating good watching tv looking movies sweet like transfer zip lock baggie stay fresh take time eating\n",
            "1                                                                   bag candy online pretty expensive cheaper order compete grocery stores good combination favorite candy\n",
            "2                                                                                                                                        arrived days stale could eat bags\n",
            "3                                                                                  fed golden retriever hated would eat gave terrible diarrhea buying also super expensive\n",
            "4                                            bought grocery outlet seattle tacoma case tweleve paying yes dollar like taste great bad either low calorie buy whacked price\n",
            "                                                                                       ...                                                                                \n",
            "4403                       waste money proflowers horrible company quality price customer service much worse companies thinking placing order save time flush money toilet\n",
            "4404                                                                                           looking cheaper version folgers gourmet supreme price little cheaper flavor\n",
            "4405           smells taste like muddy water read reviews bought regret coffee strong smells like something burnt amazon even take back since grocery save money buy brand\n",
            "4406    bad day got better sipping chocolate pure decadence wonderfully velvety texture along unbelievable dark rich taste umm get much better sit back close eyes indulge\n",
            "4407                                                                      tried exact brand stevia today toss cup coffee totally changed taste also awful bitter taste yuk\n",
            "Name: text, Length: 4408, dtype: object\n"
          ],
          "name": "stdout"
        }
      ]
    },
    {
      "cell_type": "code",
      "metadata": {
        "id": "49WO6q_Zk4rj"
      },
      "source": [
        "df['summary'] = df['summary'].apply(lambda x : 'sostok '+ x + ' eostok')"
      ],
      "execution_count": 20,
      "outputs": []
    },
    {
      "cell_type": "code",
      "metadata": {
        "colab": {
          "base_uri": "https://localhost:8080/"
        },
        "id": "aDTw6-OVuojF",
        "outputId": "325a8d1b-0584-4914-d5f0-5b7022ad7a11"
      },
      "source": [
        "print(df['summary'])"
      ],
      "execution_count": 21,
      "outputs": [
        {
          "output_type": "stream",
          "text": [
            "0                                       sostok poor taste eostok\n",
            "1                                 sostok pretty expensive eostok\n",
            "2                                    sostok stale product eostok\n",
            "3                                              sostok bad eostok\n",
            "4                             sostok never paid that much eostok\n",
            "                                  ...                           \n",
            "4403    sostok ugh am never going to buy proflowers again eostok\n",
            "4404                           sostok expensive and bland eostok\n",
            "4405                      sostok horrible smell and taste eostok\n",
            "4406             sostok having bad day it just got better eostok\n",
            "4407                                sostok horrible taste eostok\n",
            "Name: summary, Length: 4408, dtype: object\n"
          ],
          "name": "stdout"
        }
      ]
    },
    {
      "cell_type": "code",
      "metadata": {
        "id": "fTVb783Tk58d"
      },
      "source": [
        "# Split the dataset into training dataset and validation dataset\n",
        "x_tr,x_val,y_tr,y_val=train_test_split(np.array(df['text']),np.array(df['summary']),test_size=0.1,random_state=0,shuffle=True)"
      ],
      "execution_count": 22,
      "outputs": []
    },
    {
      "cell_type": "code",
      "metadata": {
        "id": "2sKTTAZnk-H5"
      },
      "source": [
        "#prepare a tokenizer for reviews on training data\n",
        "x_tokenizer = Tokenizer() \n",
        "x_tokenizer.fit_on_texts(list(x_tr))"
      ],
      "execution_count": 23,
      "outputs": []
    },
    {
      "cell_type": "code",
      "metadata": {
        "id": "AgbObm33lAY0"
      },
      "source": [
        "thresh=4\n",
        "\n",
        "cnt=0\n",
        "tot_cnt=0\n",
        "freq=0\n",
        "tot_freq=0\n",
        "\n",
        "for key,value in x_tokenizer.word_counts.items():\n",
        "    tot_cnt=tot_cnt+1\n",
        "    tot_freq=tot_freq+value\n",
        "    if(value<thresh):\n",
        "        cnt=cnt+1\n",
        "        freq=freq+value"
      ],
      "execution_count": 24,
      "outputs": []
    },
    {
      "cell_type": "code",
      "metadata": {
        "id": "Y2WRonMhlC3g"
      },
      "source": [
        "#prepare a tokenizer for reviews on training data\n",
        "x_tokenizer = Tokenizer(num_words=tot_cnt-cnt) \n",
        "x_tokenizer.fit_on_texts(list(x_tr))\n",
        "\n",
        "#convert text sequences into integer sequences\n",
        "x_tr_seq    =   x_tokenizer.texts_to_sequences(x_tr) \n",
        "x_val_seq   =   x_tokenizer.texts_to_sequences(x_val)\n",
        "\n",
        "#padding zero upto maximum length\n",
        "x_tr    =   pad_sequences(x_tr_seq,  maxlen=max_text_len, padding='post')\n",
        "x_val   =   pad_sequences(x_val_seq, maxlen=max_text_len, padding='post')\n",
        "\n",
        "#size of vocabulary ( +1 for padding token)\n",
        "x_voc   =  x_tokenizer.num_words + 1"
      ],
      "execution_count": 25,
      "outputs": []
    },
    {
      "cell_type": "code",
      "metadata": {
        "colab": {
          "base_uri": "https://localhost:8080/"
        },
        "id": "duCm5JM0UMkB",
        "outputId": "23cee143-0692-42f7-e206-c27736682096"
      },
      "source": [
        "print(x_tr[:5])"
      ],
      "execution_count": 26,
      "outputs": [
        {
          "output_type": "stream",
          "text": [
            "[[ 354   12  508  251  211  493  890 1725   84  471  103   81    0    0\n",
            "     0    0    0    0    0    0    0    0    0    0    0    0    0    0\n",
            "     0    0]\n",
            " [ 203   27    5   26   21   53   41   81   14 1154 1726  379 1258  937\n",
            "     0    0    0    0    0    0    0    0    0    0    0    0    0    0\n",
            "     0    0]\n",
            " [ 102    6   63   66 1155 1985  538   32  938   17  494  132  122  203\n",
            "  1727 1986  330  422  187   81   14    0    0    0    0    0    0    0\n",
            "     0    0]\n",
            " [   1   21   62  612 1259   65  111 1156   15   11  380   51  714 1728\n",
            "     0    0    0    0    0    0    0    0    0    0    0    0    0    0\n",
            "     0    0]\n",
            " [ 115    1 1395  311    5  290  144 1073   24  284    1  381  445   63\n",
            "  1729 1074    0    0    0    0    0    0    0    0    0    0    0    0\n",
            "     0    0]]\n"
          ],
          "name": "stdout"
        }
      ]
    },
    {
      "cell_type": "code",
      "metadata": {
        "id": "SffJ5JNzlHKM"
      },
      "source": [
        "#prepare a tokenizer for reviews on training data\n",
        "y_tokenizer = Tokenizer()   \n",
        "y_tokenizer.fit_on_texts(list(y_tr))"
      ],
      "execution_count": 27,
      "outputs": []
    },
    {
      "cell_type": "code",
      "metadata": {
        "id": "EPJwnGmmlJQw"
      },
      "source": [
        "thresh=6\n",
        "\n",
        "cnt=0\n",
        "tot_cnt=0\n",
        "freq=0\n",
        "tot_freq=0\n",
        "\n",
        "for key,value in y_tokenizer.word_counts.items():\n",
        "    tot_cnt=tot_cnt+1\n",
        "    tot_freq=tot_freq+value\n",
        "    if(value<thresh):\n",
        "        cnt=cnt+1\n",
        "        freq=freq+value"
      ],
      "execution_count": 28,
      "outputs": []
    },
    {
      "cell_type": "code",
      "metadata": {
        "id": "LQHkJd8olLxb"
      },
      "source": [
        "#prepare a tokenizer for reviews on training data\n",
        "y_tokenizer = Tokenizer(num_words=tot_cnt-cnt) \n",
        "y_tokenizer.fit_on_texts(list(y_tr))\n",
        "\n",
        "#convert text sequences into integer sequences\n",
        "y_tr_seq    =   y_tokenizer.texts_to_sequences(y_tr) \n",
        "y_val_seq   =   y_tokenizer.texts_to_sequences(y_val) \n",
        "\n",
        "#padding zero upto maximum length\n",
        "y_tr    =   pad_sequences(y_tr_seq, maxlen=max_summary_len, padding='post')\n",
        "y_val   =   pad_sequences(y_val_seq, maxlen=max_summary_len, padding='post')\n",
        "\n",
        "#size of vocabulary ( +1 for padding token)\n",
        "y_voc  =   y_tokenizer.num_words +1"
      ],
      "execution_count": 29,
      "outputs": []
    },
    {
      "cell_type": "code",
      "metadata": {
        "id": "T3-XY9TZlSdX"
      },
      "source": [
        "ind=[]\n",
        "for i in range(len(y_tr)):\n",
        "    cnt=0\n",
        "    for j in y_tr[i]:\n",
        "        if j!=0:\n",
        "            cnt=cnt+1\n",
        "    if(cnt==2):\n",
        "        ind.append(i)\n",
        "\n",
        "y_tr=np.delete(y_tr,ind, axis=0)\n",
        "x_tr=np.delete(x_tr,ind, axis=0)"
      ],
      "execution_count": 30,
      "outputs": []
    },
    {
      "cell_type": "code",
      "metadata": {
        "id": "AGmhXfXxlU12"
      },
      "source": [
        "ind=[]\n",
        "for i in range(len(y_val)):\n",
        "    cnt=0\n",
        "    for j in y_val[i]:\n",
        "        if j!=0:\n",
        "            cnt=cnt+1\n",
        "    if(cnt==2):\n",
        "        ind.append(i)\n",
        "\n",
        "y_val=np.delete(y_val,ind, axis=0)\n",
        "x_val=np.delete(x_val,ind, axis=0)"
      ],
      "execution_count": 31,
      "outputs": []
    },
    {
      "cell_type": "code",
      "metadata": {
        "id": "HjonoQQjp9Bm",
        "colab": {
          "base_uri": "https://localhost:8080/"
        },
        "outputId": "e8735c11-6999-4c14-fe69-627198b10869"
      },
      "source": [
        "# Model Building Phase begins\n",
        "\n",
        "K.clear_session()\n",
        "\n",
        "latent_dim = 300\n",
        "embedding_dim = 200\n",
        "\n",
        "# Encoder\n",
        "encoder_inputs = Input(shape=(max_text_len,))\n",
        "\n",
        "#embedding layer\n",
        "enc_emb_layer =  Embedding(x_voc, embedding_dim,trainable=True)\n",
        "enc_emb = enc_emb_layer(encoder_inputs)\n",
        "\n",
        "#encoder lstm 1\n",
        "encoder_lstm1 = LSTM(latent_dim,return_sequences=True,return_state=True,dropout=0.4,recurrent_dropout=0.4)\n",
        "encoder_output1, state_h1, state_c1 = encoder_lstm1(enc_emb)\n",
        "\n",
        "#encoder lstm 2\n",
        "encoder_lstm2 = LSTM(latent_dim,return_sequences=True,return_state=True,dropout=0.4,recurrent_dropout=0.4)\n",
        "encoder_output2, state_h2, state_c2 = encoder_lstm2(encoder_output1)\n",
        "\n",
        "# #encoder lstm 22\n",
        "# encoder_lstm2 = LSTM(latent_dim,return_sequences=True,return_state=True,dropout=0.4,recurrent_dropout=0.4)\n",
        "# encoder_output22, state_h22, state_c22 = encoder_lstm2(encoder_output2)\n",
        "\n",
        "#encoder lstm 3\n",
        "encoder_lstm3 = LSTM(latent_dim,return_sequences=True,return_state=True,dropout=0.4,recurrent_dropout=0.4)\n",
        "encoder_outputs, state_h, state_c= encoder_lstm3(encoder_output2)\n",
        "\n",
        "# Set up the decoder, using `encoder_states` as initial state.\n",
        "decoder_inputs = Input(shape=(None,))\n",
        "\n",
        "#embedding layer\n",
        "dec_emb_layer = Embedding(y_voc, embedding_dim,trainable=True)\n",
        "dec_emb = dec_emb_layer(decoder_inputs)\n",
        "\n",
        "decoder_lstm = LSTM(latent_dim, return_sequences=True, return_state=True,dropout=0.4,recurrent_dropout=0.2)\n",
        "decoder_outputs, decoder_fwd_state, decoder_back_state = decoder_lstm(dec_emb,initial_state=[state_h, state_c])\n",
        "\n",
        "# Attention layer\n",
        "attn_layer = AttentionLayer(name='attention_layer')\n",
        "attn_out, attn_states = attn_layer([encoder_outputs, decoder_outputs])\n",
        "\n",
        "# Concat attention input and decoder LSTM output\n",
        "decoder_concat_input = Concatenate(axis=-1, name='concat_layer')([decoder_outputs, attn_out])\n",
        "\n",
        "#dense layer\n",
        "decoder_dense =  TimeDistributed(Dense(y_voc, activation='softmax'))\n",
        "decoder_outputs = decoder_dense(decoder_concat_input)\n",
        "\n",
        "# Define the model \n",
        "model = Model([encoder_inputs, decoder_inputs], decoder_outputs)\n",
        "\n",
        "model.summary()"
      ],
      "execution_count": 32,
      "outputs": [
        {
          "output_type": "stream",
          "text": [
            "WARNING:tensorflow:Layer lstm will not use cuDNN kernel since it doesn't meet the cuDNN kernel criteria. It will use generic GPU kernel as fallback when running on GPU\n",
            "WARNING:tensorflow:Layer lstm_1 will not use cuDNN kernel since it doesn't meet the cuDNN kernel criteria. It will use generic GPU kernel as fallback when running on GPU\n",
            "WARNING:tensorflow:Layer lstm_2 will not use cuDNN kernel since it doesn't meet the cuDNN kernel criteria. It will use generic GPU kernel as fallback when running on GPU\n",
            "WARNING:tensorflow:Layer lstm_3 will not use cuDNN kernel since it doesn't meet the cuDNN kernel criteria. It will use generic GPU kernel as fallback when running on GPU\n",
            "Model: \"model\"\n",
            "__________________________________________________________________________________________________\n",
            "Layer (type)                    Output Shape         Param #     Connected to                     \n",
            "==================================================================================================\n",
            "input_1 (InputLayer)            [(None, 30)]         0                                            \n",
            "__________________________________________________________________________________________________\n",
            "embedding (Embedding)           (None, 30, 200)      468200      input_1[0][0]                    \n",
            "__________________________________________________________________________________________________\n",
            "lstm (LSTM)                     [(None, 30, 300), (N 601200      embedding[0][0]                  \n",
            "__________________________________________________________________________________________________\n",
            "input_2 (InputLayer)            [(None, None)]       0                                            \n",
            "__________________________________________________________________________________________________\n",
            "lstm_1 (LSTM)                   [(None, 30, 300), (N 721200      lstm[0][0]                       \n",
            "__________________________________________________________________________________________________\n",
            "embedding_1 (Embedding)         (None, None, 200)    51600       input_2[0][0]                    \n",
            "__________________________________________________________________________________________________\n",
            "lstm_2 (LSTM)                   [(None, 30, 300), (N 721200      lstm_1[0][0]                     \n",
            "__________________________________________________________________________________________________\n",
            "lstm_3 (LSTM)                   [(None, None, 300),  601200      embedding_1[0][0]                \n",
            "                                                                 lstm_2[0][1]                     \n",
            "                                                                 lstm_2[0][2]                     \n",
            "__________________________________________________________________________________________________\n",
            "attention_layer (AttentionLayer ((None, None, 300),  180300      lstm_2[0][0]                     \n",
            "                                                                 lstm_3[0][0]                     \n",
            "__________________________________________________________________________________________________\n",
            "concat_layer (Concatenate)      (None, None, 600)    0           lstm_3[0][0]                     \n",
            "                                                                 attention_layer[0][0]            \n",
            "__________________________________________________________________________________________________\n",
            "time_distributed (TimeDistribut (None, None, 258)    155058      concat_layer[0][0]               \n",
            "==================================================================================================\n",
            "Total params: 3,499,958\n",
            "Trainable params: 3,499,958\n",
            "Non-trainable params: 0\n",
            "__________________________________________________________________________________________________\n"
          ],
          "name": "stdout"
        }
      ]
    },
    {
      "cell_type": "code",
      "metadata": {
        "id": "0KWdbo_-sCfh"
      },
      "source": [
        "model.compile(optimizer='rmsprop', loss='sparse_categorical_crossentropy', metrics=[\"accuracy\"])"
      ],
      "execution_count": 33,
      "outputs": []
    },
    {
      "cell_type": "code",
      "metadata": {
        "colab": {
          "base_uri": "https://localhost:8080/"
        },
        "id": "8Z3qerqIbHHZ",
        "outputId": "fd9ceb82-8671-4ca8-b48f-f7f797f00981"
      },
      "source": [
        "history = model.fit([x_tr,y_tr[:,:-1]], y_tr.reshape(y_tr.shape[0],y_tr.shape[1], 1)[:,1:], epochs=10, batch_size=64, validation_data=([x_val,y_val[:,:-1]], y_val.reshape(y_val.shape[0],y_val.shape[1], 1)[:,1:]))"
      ],
      "execution_count": 34,
      "outputs": [
        {
          "output_type": "stream",
          "text": [
            "Epoch 1/10\n",
            "62/62 [==============================] - 36s 387ms/step - loss: 2.8951 - accuracy: 0.4723 - val_loss: 1.8682 - val_accuracy: 0.6273\n",
            "Epoch 2/10\n",
            "62/62 [==============================] - 23s 365ms/step - loss: 1.9091 - accuracy: 0.6287 - val_loss: 1.6734 - val_accuracy: 0.6643\n",
            "Epoch 3/10\n",
            "62/62 [==============================] - 23s 368ms/step - loss: 1.7104 - accuracy: 0.6537 - val_loss: 1.5204 - val_accuracy: 0.6828\n",
            "Epoch 4/10\n",
            "62/62 [==============================] - 23s 368ms/step - loss: 1.5481 - accuracy: 0.6775 - val_loss: 1.4387 - val_accuracy: 0.6942\n",
            "Epoch 5/10\n",
            "62/62 [==============================] - 23s 370ms/step - loss: 1.4689 - accuracy: 0.6895 - val_loss: 1.3976 - val_accuracy: 0.7058\n",
            "Epoch 6/10\n",
            "62/62 [==============================] - 23s 366ms/step - loss: 1.3935 - accuracy: 0.7035 - val_loss: 1.3506 - val_accuracy: 0.7195\n",
            "Epoch 7/10\n",
            "62/62 [==============================] - 23s 371ms/step - loss: 1.3536 - accuracy: 0.7037 - val_loss: 1.3162 - val_accuracy: 0.7159\n",
            "Epoch 8/10\n",
            "62/62 [==============================] - 23s 365ms/step - loss: 1.2766 - accuracy: 0.7156 - val_loss: 1.3196 - val_accuracy: 0.7166\n",
            "Epoch 9/10\n",
            "62/62 [==============================] - 23s 364ms/step - loss: 1.2497 - accuracy: 0.7186 - val_loss: 1.3058 - val_accuracy: 0.7198\n",
            "Epoch 10/10\n",
            "62/62 [==============================] - 23s 374ms/step - loss: 1.2036 - accuracy: 0.7273 - val_loss: 1.2891 - val_accuracy: 0.7273\n"
          ],
          "name": "stdout"
        }
      ]
    },
    {
      "cell_type": "code",
      "metadata": {
        "id": "mx9Cbmn7sLGd",
        "colab": {
          "base_uri": "https://localhost:8080/",
          "height": 573
        },
        "outputId": "64126dab-337c-40f7-f368-5a7c6d43244b"
      },
      "source": [
        "# Visualize training\n",
        "\n",
        "# Summarize the history of accuracy\n",
        "plt.plot(history.history['accuracy'])\n",
        "plt.plot(history.history['val_accuracy'])\n",
        "plt.title('model accuracy')\n",
        "plt.ylabel('accuracy')\n",
        "plt.xlabel('epoch')\n",
        "plt.legend(['train', 'test'], loc='upper left')\n",
        "plt.show()\n",
        "\n",
        "# Summarize the history of loss\n",
        "plt.plot(history.history['loss'])\n",
        "plt.plot(history.history['val_loss'])\n",
        "plt.title('model loss')\n",
        "plt.ylabel('loss')\n",
        "plt.xlabel('epoch')\n",
        "plt.legend(['train', 'test'], loc='upper left')\n",
        "plt.show()"
      ],
      "execution_count": 35,
      "outputs": [
        {
          "output_type": "display_data",
          "data": {
            "image/png": "[encoded data removed]",
            "text/plain": [
              "<Figure size 432x288 with 1 Axes>"
            ]
          },
          "metadata": {
            "tags": [],
            "needs_background": "light"
          }
        },
        {
          "output_type": "display_data",
          "data": {
            "image/png": "[encoded data removed]",
            "text/plain": [
              "<Figure size 432x288 with 1 Axes>"
            ]
          },
          "metadata": {
            "tags": [],
            "needs_background": "light"
          }
        }
      ]
    },
    {
      "cell_type": "code",
      "metadata": {
        "id": "jW-3x0SAsm4G"
      },
      "source": [
        "reverse_target_word_index=y_tokenizer.index_word\n",
        "reverse_source_word_index=x_tokenizer.index_word\n",
        "target_word_index=y_tokenizer.word_index"
      ],
      "execution_count": 36,
      "outputs": []
    },
    {
      "cell_type": "code",
      "metadata": {
        "id": "pjWJ3qTjpsNi"
      },
      "source": [
        "# encoder inference\n",
        "# Encode the input sequence to get the feature vector\n",
        "encoder_model = Model(inputs=encoder_inputs,outputs=[encoder_outputs, state_h, state_c])\n",
        "\n",
        "# Decoder inference\n",
        "# Below tensors will hold the states of the previous time step\n",
        "decoder_state_input_h = Input(shape=(latent_dim,))\n",
        "decoder_state_input_c = Input(shape=(latent_dim,))\n",
        "decoder_hidden_state_input = Input(shape=(max_text_len,latent_dim))\n",
        "\n",
        "# Get the embeddings of the decoder sequence\n",
        "dec_emb2= dec_emb_layer(decoder_inputs) \n",
        "\n",
        "# To predict the next word in the sequence, set the initial states to the states from the previous time step\n",
        "decoder_outputs2, state_h2, state_c2 = decoder_lstm(dec_emb2, initial_state=[decoder_state_input_h, decoder_state_input_c])\n",
        "\n",
        "#attention inference\n",
        "attn_out_inf, attn_states_inf = attn_layer([decoder_hidden_state_input, decoder_outputs2])\n",
        "decoder_inf_concat = Concatenate(axis=-1, name='concat')([decoder_outputs2, attn_out_inf])\n",
        "\n",
        "# A dense softmax layer to generate prob dist. over the target vocabulary\n",
        "decoder_outputs2 = decoder_dense(decoder_inf_concat) \n",
        "\n",
        "# Final decoder model\n",
        "decoder_model = Model(\n",
        "    [decoder_inputs] + [decoder_hidden_state_input,decoder_state_input_h, decoder_state_input_c],\n",
        "    [decoder_outputs2] + [state_h2, state_c2])"
      ],
      "execution_count": 37,
      "outputs": []
    },
    {
      "cell_type": "code",
      "metadata": {
        "id": "E8y2N9DyqFTb"
      },
      "source": [
        "def decode_sequence(input_seq):\n",
        "    # Encode the input as state vectors.\n",
        "    e_out, e_h, e_c = encoder_model.predict(input_seq)\n",
        "    \n",
        "    # Generate empty target sequence of length 1.\n",
        "    target_seq = np.zeros((1,1))\n",
        "    \n",
        "    # Populate the first word of target sequence with the start word.\n",
        "    target_seq[0, 0] = target_word_index['sostok']\n",
        "\n",
        "    stop_condition = False\n",
        "    decoded_sentence = ''\n",
        "    while not stop_condition:\n",
        "      \n",
        "        output_tokens, h, c = decoder_model.predict([target_seq] + [e_out, e_h, e_c])\n",
        "\n",
        "        # Sample a token\n",
        "        sampled_token_index = np.argmax(output_tokens[0, -1, :])\n",
        "        sampled_token = reverse_target_word_index[sampled_token_index]\n",
        "        \n",
        "        if(sampled_token!='eostok'):\n",
        "            decoded_sentence += ' '+sampled_token\n",
        "\n",
        "        # Exit condition: either hit max length or find stop word.\n",
        "        if (sampled_token == 'eostok'  or len(decoded_sentence.split()) >= (max_summary_len-1)):\n",
        "            stop_condition = True\n",
        "\n",
        "        # Update the target sequence (of length 1).\n",
        "        target_seq = np.zeros((1,1))\n",
        "        target_seq[0, 0] = sampled_token_index\n",
        "\n",
        "        # Update internal states\n",
        "        e_h, e_c = h, c\n",
        "\n",
        "    return decoded_sentence"
      ],
      "execution_count": 38,
      "outputs": []
    },
    {
      "cell_type": "code",
      "metadata": {
        "id": "sdx_lg50qIA7"
      },
      "source": [
        "def seq2summary(input_seq):\n",
        "    newString=''\n",
        "    for i in input_seq:\n",
        "        if((i!=0 and i!=target_word_index['sostok']) and i!=target_word_index['eostok']):\n",
        "            newString=newString+reverse_target_word_index[i]+' '\n",
        "    return newString\n",
        "\n",
        "def seq2text(input_seq):\n",
        "    newString=''\n",
        "    for i in input_seq:\n",
        "        if(i!=0):\n",
        "            newString=newString+reverse_source_word_index[i]+' '\n",
        "    return newString"
      ],
      "execution_count": 39,
      "outputs": []
    },
    {
      "cell_type": "code",
      "metadata": {
        "id": "St8XBxBzjN-w",
        "colab": {
          "base_uri": "https://localhost:8080/"
        },
        "outputId": "8e2b5885-d622-4679-e203-11ea6f4d7e85"
      },
      "source": [
        "data1=pd.read_csv(\"/content/gdrive/MyDrive/Kaggle/amazon_review/Reviews_neg.csv\")\n",
        "for i in range(0, 10):\n",
        "    uinp = data1['Text'][i]\n",
        "    cleaned_inp = []\n",
        "    cleaned_inp.append(text_cleaner(uinp,0))\n",
        "    inp_seq = x_tokenizer.texts_to_sequences(cleaned_inp)\n",
        "    inp = pad_sequences(inp_seq, maxlen=max_text_len, padding='post')\n",
        "    \n",
        "    print(i, \"Review:\", uinp)\n",
        "    print(\"\\tReference summary : \", data1['Summary'][i])\n",
        "    print(\"\\tPredicted summary: \",decode_sequence(inp[0].reshape(1,max_text_len)))\n",
        "    print(\"\\n\")\n"
      ],
      "execution_count": 40,
      "outputs": [
        {
          "output_type": "stream",
          "text": [
            "0 Review: I love eating them and they are good for watching TV and looking at movies! It is not too sweet. I like to transfer them to a zip lock baggie so they stay fresh so I can take my time eating them.\n",
            "\tReference summary :  poor taste\n",
            "\tPredicted summary:   poor quality\n",
            "\n",
            "\n",
            "1 Review: This bag of candy online is pretty expensive, it should be cheaper in order to compete with grocery stores, other than that, its a good combination of my favorite candy\n",
            "\tReference summary :  pretty expensive\n",
            "\tPredicted summary:   overpriced\n",
            "\n",
            "\n",
            "2 Review: Arrived in 6 days and were so stale i could not eat any of the 6 bags!!\n",
            "\tReference summary :  stale product.\n",
            "\tPredicted summary:   stale\n",
            "\n",
            "\n",
            "3 Review: I fed this to my Golden Retriever and he hated it.  He wouldn't eat it, and when he did, it gave him terrible diarrhea.  We will not be buying this again.  It's also super expensive.\n",
            "\tReference summary :  Bad\n",
            "\tPredicted summary:   bad\n",
            "\n",
            "\n",
            "4 Review: I bought these at Grocery Outlet here in the Seattle Tacoma are for $4.00 a case of tweleve not paying $38.00 Yes 3 for a dollar. I like the taste not great but not bad either low calorie will buy more but not at this whacked out price.\n",
            "\tReference summary :  Never paid that much !\n",
            "\tPredicted summary:   expensive\n",
            "\n",
            "\n",
            "5 Review: we have fed our cats a lot of stuff. These 2 boy cats are not picky eaters. They loved the Purina. They loved the Nutro. They loved the Iams. They love whatever we feed them.<br /><br />This review is based on what we, their affectionate owners love. After a certain age, we were instructed by the vet to consider senior foods- and lower carb foods, because the catties were fatties. We tried a few types of food. Some evinced no change. Some made the litter super-stink.  Some had too small a kibble and the cats barfed it up because they didn't have to chew it to swallow it...<br /><br />This Felidae has done the trick. No problems to speak of. It is consistent in the litter and bearable on the nose. The cats love it. The kibble is sized appropriate to chewing. And here's the kicker:<br />After feeding the cats Felidae, their demeanor improved. Their coats are super soft and lush- both are new improvements we can directly attribute to this food. We're now loyal Felidae consumers.<br /><br />Additionally, the absence of corn product in the feed seems to lessen or remove the reactions of our friends with cat-allergies.\n",
            "\tReference summary :  better than average, more expensive than average.\n",
            "\tPredicted summary:   expensive\n",
            "\n",
            "\n",
            "6 Review: I felt energized within five minutes, but it lasted for about 45 minutes. I paid $3.99 for this drink. I could have just drunk a cup of coffee and saved my money.\n",
            "\tReference summary :  Don't Waste Your Money\n",
            "\tPredicted summary:   bad\n",
            "\n",
            "\n",
            "7 Review: This sugar is very good.  Use this in your coffee, cereal, etc for a week and you'll never go back to white sugar, white sugar will taste terrible.  Plus from what I've read, this Raw sugar contains a lot of minerals that are missing in our diets.<br /><br />The product was delivered fast and well-packaged.  My only complaint is the price.  I wish I could find Raw sugar cheaper.  I would be happy to buy in bulk, but this is the cheapest I have found.\n",
            "\tReference summary :  You'll never use white sugar again.\n",
            "\tPredicted summary:   terrible\n",
            "\n",
            "\n",
            "8 Review: howdy y'all,<br /><br />the actual product is VERY good - i'd rate the item a 4 on it's own. however, it's only ONE dollar at the local grocery and - @ twenty eight+ dollars per twelve pack - these are running almost two and a half dollars each.<br /><br />as i said, TOO EXPENSIVE. [*sigh ...*] i was really hoping to get them at something approaching the local cost.<br /><br />take care,<br />lee\n",
            "\tReference summary :  too expensive\n",
            "\tPredicted summary:   overpriced\n",
            "\n",
            "\n",
            "9 Review: So we cancelled the order.  It was cancelled without any problem.  That is a positive note...\n",
            "\tReference summary :  Never Arrived\n",
            "\tPredicted summary:   never received\n",
            "\n",
            "\n"
          ],
          "name": "stdout"
        }
      ]
    },
    {
      "cell_type": "code",
      "metadata": {
        "id": "LJPDefLzCWmm",
        "colab": {
          "base_uri": "https://localhost:8080/"
        },
        "outputId": "8ea08652-a4c7-4c1d-b596-0987ff13f109"
      },
      "source": [
        "!pip install git+https://github.com/tagucci/pythonrouge.git\n",
        "!apt-get install -y cpanminus\n",
        "!cpanm --force XML::Parser"
      ],
      "execution_count": 41,
      "outputs": [
        {
          "output_type": "stream",
          "text": [
            "Collecting git+https://github.com/tagucci/pythonrouge.git\n",
            "  Cloning https://github.com/tagucci/pythonrouge.git to /tmp/pip-req-build-v7mssxtc\n",
            "  Running command git clone -q https://github.com/tagucci/pythonrouge.git /tmp/pip-req-build-v7mssxtc\n",
            "Building wheels for collected packages: pythonrouge\n",
            "  Building wheel for pythonrouge (setup.py) ... \u001b[?25l\u001b[?25hdone\n",
            "  Created wheel for pythonrouge: filename=pythonrouge-0.2-cp37-none-any.whl size=285401 sha256=1bb8fc911226aee02fb6ca1efb7f99736a7debc70e26b78977d5dd7781353788\n",
            "  Stored in directory: /tmp/pip-ephem-wheel-cache-bei725bo/wheels/fd/ff/be/6716935d513fa8656ab185cb0aa70aed382b72dda42bf09c95\n",
            "Successfully built pythonrouge\n",
            "Installing collected packages: pythonrouge\n",
            "Successfully installed pythonrouge-0.2\n",
            "Reading package lists... Done\n",
            "Building dependency tree       \n",
            "Reading state information... Done\n",
            "The following package was automatically installed and is no longer required:\n",
            "  libnvidia-common-460\n",
            "Use 'apt autoremove' to remove it.\n",
            "The following additional packages will be installed:\n",
            "  libalgorithm-c3-perl libb-hooks-endofscope-perl libb-hooks-op-check-perl\n",
            "  libclass-c3-perl libclass-c3-xs-perl libclass-method-modifiers-perl\n",
            "  libclass-xsaccessor-perl libcpan-changes-perl libcpan-distnameinfo-perl\n",
            "  libcpan-meta-check-perl libdata-optlist-perl libdata-perl-perl\n",
            "  libdata-section-perl libdevel-callchecker-perl\n",
            "  libdevel-globaldestruction-perl libdynaloader-functions-perl\n",
            "  libencode-locale-perl libexporter-tiny-perl libfile-pushd-perl\n",
            "  libfile-slurp-perl libgetopt-long-descriptive-perl libhtml-parser-perl\n",
            "  libhtml-tagset-perl libhttp-date-perl libhttp-message-perl\n",
            "  libimport-into-perl libio-html-perl libio-stringy-perl\n",
            "  liblist-moreutils-perl liblocal-lib-perl liblwp-mediatypes-perl\n",
            "  libmodule-build-perl libmodule-cpanfile-perl libmodule-implementation-perl\n",
            "  libmodule-runtime-perl libmodule-signature-perl libmoo-perl\n",
            "  libmoox-handlesvia-perl libmro-compat-perl libnamespace-autoclean-perl\n",
            "  libnamespace-clean-perl libpackage-stash-perl libpackage-stash-xs-perl\n",
            "  libparams-classify-perl libparams-util-perl libparams-validate-perl\n",
            "  libparse-pmfile-perl libpath-tiny-perl libpod-markdown-perl\n",
            "  libpod-readme-perl libreadonly-perl libref-util-perl libref-util-xs-perl\n",
            "  librole-tiny-perl libsoftware-license-perl libstrictures-perl\n",
            "  libstring-shellquote-perl libsub-exporter-perl\n",
            "  libsub-exporter-progressive-perl libsub-identify-perl libsub-install-perl\n",
            "  libsub-name-perl libsub-quote-perl libtext-template-perl libtimedate-perl\n",
            "  libtry-tiny-perl libtype-tiny-perl libtype-tiny-xs-perl libunicode-utf8-perl\n",
            "  liburi-perl libvariable-magic-perl\n",
            "Suggested packages:\n",
            "  libdata-dump-perl libscalar-number-perl libbareword-filehandles-perl\n",
            "  libindirect-perl libmultidimensional-perl libdevel-stacktrace-perl\n",
            "  libdevel-lexalias-perl libwww-perl\n",
            "The following NEW packages will be installed:\n",
            "  cpanminus libalgorithm-c3-perl libb-hooks-endofscope-perl\n",
            "  libb-hooks-op-check-perl libclass-c3-perl libclass-c3-xs-perl\n",
            "  libclass-method-modifiers-perl libclass-xsaccessor-perl libcpan-changes-perl\n",
            "  libcpan-distnameinfo-perl libcpan-meta-check-perl libdata-optlist-perl\n",
            "  libdata-perl-perl libdata-section-perl libdevel-callchecker-perl\n",
            "  libdevel-globaldestruction-perl libdynaloader-functions-perl\n",
            "  libencode-locale-perl libexporter-tiny-perl libfile-pushd-perl\n",
            "  libfile-slurp-perl libgetopt-long-descriptive-perl libhtml-parser-perl\n",
            "  libhtml-tagset-perl libhttp-date-perl libhttp-message-perl\n",
            "  libimport-into-perl libio-html-perl libio-stringy-perl\n",
            "  liblist-moreutils-perl liblocal-lib-perl liblwp-mediatypes-perl\n",
            "  libmodule-build-perl libmodule-cpanfile-perl libmodule-implementation-perl\n",
            "  libmodule-runtime-perl libmodule-signature-perl libmoo-perl\n",
            "  libmoox-handlesvia-perl libmro-compat-perl libnamespace-autoclean-perl\n",
            "  libnamespace-clean-perl libpackage-stash-perl libpackage-stash-xs-perl\n",
            "  libparams-classify-perl libparams-util-perl libparams-validate-perl\n",
            "  libparse-pmfile-perl libpath-tiny-perl libpod-markdown-perl\n",
            "  libpod-readme-perl libreadonly-perl libref-util-perl libref-util-xs-perl\n",
            "  librole-tiny-perl libsoftware-license-perl libstrictures-perl\n",
            "  libstring-shellquote-perl libsub-exporter-perl\n",
            "  libsub-exporter-progressive-perl libsub-identify-perl libsub-install-perl\n",
            "  libsub-name-perl libsub-quote-perl libtext-template-perl libtimedate-perl\n",
            "  libtry-tiny-perl libtype-tiny-perl libtype-tiny-xs-perl libunicode-utf8-perl\n",
            "  liburi-perl libvariable-magic-perl\n",
            "0 upgraded, 72 newly installed, 0 to remove and 34 not upgraded.\n",
            "Need to get 2,249 kB of archives.\n",
            "After this operation, 6,883 kB of additional disk space will be used.\n",
            "Get:1 http://archive.ubuntu.com/ubuntu bionic/universe amd64 libcpan-distnameinfo-perl all 0.12-1 [8,662 B]\n",
            "Get:2 http://archive.ubuntu.com/ubuntu bionic/universe amd64 libcpan-meta-check-perl all 0.014-1 [7,594 B]\n",
            "Get:3 http://archive.ubuntu.com/ubuntu bionic/universe amd64 libfile-pushd-perl all 1.014-1 [11.8 kB]\n",
            "Get:4 http://archive.ubuntu.com/ubuntu bionic/universe amd64 libmodule-build-perl all 0.422400-1 [201 kB]\n",
            "Get:5 http://archive.ubuntu.com/ubuntu bionic/universe amd64 liblocal-lib-perl all 2.000024-1 [46.1 kB]\n",
            "Get:6 http://archive.ubuntu.com/ubuntu bionic/universe amd64 libmodule-cpanfile-perl all 1.1002-1 [23.8 kB]\n",
            "Get:7 http://archive.ubuntu.com/ubuntu bionic/universe amd64 libparse-pmfile-perl all 0.41-1 [14.2 kB]\n",
            "Get:8 http://archive.ubuntu.com/ubuntu bionic/universe amd64 libstring-shellquote-perl all 1.04-1 [12.0 kB]\n",
            "Get:9 http://archive.ubuntu.com/ubuntu bionic/universe amd64 cpanminus all 1.7043-1 [58.0 kB]\n",
            "Get:10 http://archive.ubuntu.com/ubuntu bionic/universe amd64 libalgorithm-c3-perl all 0.10-1 [11.3 kB]\n",
            "Get:11 http://archive.ubuntu.com/ubuntu bionic/main amd64 libb-hooks-op-check-perl amd64 0.22-1 [10.1 kB]\n",
            "Get:12 http://archive.ubuntu.com/ubuntu bionic/main amd64 libdynaloader-functions-perl all 0.003-1 [11.9 kB]\n",
            "Get:13 http://archive.ubuntu.com/ubuntu bionic/main amd64 libdevel-callchecker-perl amd64 0.007-2build1 [14.1 kB]\n",
            "Get:14 http://archive.ubuntu.com/ubuntu bionic/main amd64 libparams-classify-perl amd64 0.015-1 [21.2 kB]\n",
            "Get:15 http://archive.ubuntu.com/ubuntu bionic/main amd64 libmodule-runtime-perl all 0.016-1 [16.2 kB]\n",
            "Get:16 http://archive.ubuntu.com/ubuntu bionic/main amd64 libtry-tiny-perl all 0.30-1 [20.5 kB]\n",
            "Get:17 http://archive.ubuntu.com/ubuntu bionic/main amd64 libmodule-implementation-perl all 0.09-1 [12.2 kB]\n",
            "Get:18 http://archive.ubuntu.com/ubuntu bionic/main amd64 libsub-exporter-progressive-perl all 0.001013-1 [6,784 B]\n",
            "Get:19 http://archive.ubuntu.com/ubuntu bionic/main amd64 libvariable-magic-perl amd64 0.62-1 [34.5 kB]\n",
            "Get:20 http://archive.ubuntu.com/ubuntu bionic/main amd64 libb-hooks-endofscope-perl all 0.21-1 [14.7 kB]\n",
            "Get:21 http://archive.ubuntu.com/ubuntu bionic/universe amd64 libclass-c3-perl all 0.33-1 [19.0 kB]\n",
            "Get:22 http://archive.ubuntu.com/ubuntu bionic/universe amd64 libclass-c3-xs-perl amd64 0.14-1build3 [15.8 kB]\n",
            "Get:23 http://archive.ubuntu.com/ubuntu bionic/main amd64 libclass-method-modifiers-perl all 2.12-1 [15.7 kB]\n",
            "Get:24 http://archive.ubuntu.com/ubuntu bionic/main amd64 libclass-xsaccessor-perl amd64 1.19-2build8 [32.8 kB]\n",
            "Get:25 http://archive.ubuntu.com/ubuntu bionic/universe amd64 libcpan-changes-perl all 0.400002-1 [32.0 kB]\n",
            "Get:26 http://archive.ubuntu.com/ubuntu bionic/main amd64 libparams-util-perl amd64 1.07-3build3 [19.6 kB]\n",
            "Get:27 http://archive.ubuntu.com/ubuntu bionic/main amd64 libsub-install-perl all 0.928-1 [10.5 kB]\n",
            "Get:28 http://archive.ubuntu.com/ubuntu bionic/main amd64 libdata-optlist-perl all 0.110-1 [9,956 B]\n",
            "Get:29 http://archive.ubuntu.com/ubuntu bionic/main amd64 libexporter-tiny-perl all 1.000000-2 [34.6 kB]\n",
            "Get:30 http://archive.ubuntu.com/ubuntu bionic/main amd64 liblist-moreutils-perl amd64 0.416-1build3 [55.5 kB]\n",
            "Get:31 http://archive.ubuntu.com/ubuntu bionic/main amd64 librole-tiny-perl all 2.000006-1 [15.9 kB]\n",
            "Get:32 http://archive.ubuntu.com/ubuntu bionic/main amd64 libstrictures-perl all 2.000003-1 [16.1 kB]\n",
            "Get:33 http://archive.ubuntu.com/ubuntu bionic/universe amd64 libdata-perl-perl all 0.002009-2 [39.1 kB]\n",
            "Get:34 http://archive.ubuntu.com/ubuntu bionic/universe amd64 libmro-compat-perl all 0.13-1 [11.2 kB]\n",
            "Get:35 http://archive.ubuntu.com/ubuntu bionic/main amd64 libsub-exporter-perl all 0.987-1 [44.9 kB]\n",
            "Get:36 http://archive.ubuntu.com/ubuntu bionic/universe amd64 libdata-section-perl all 0.200007-1 [11.8 kB]\n",
            "Get:37 http://archive.ubuntu.com/ubuntu bionic/main amd64 libdevel-globaldestruction-perl all 0.14-1 [6,752 B]\n",
            "Get:38 http://archive.ubuntu.com/ubuntu bionic/main amd64 libencode-locale-perl all 1.05-1 [12.3 kB]\n",
            "Get:39 http://archive.ubuntu.com/ubuntu bionic/universe amd64 libfile-slurp-perl all 9999.19-6 [38.5 kB]\n",
            "Get:40 http://archive.ubuntu.com/ubuntu bionic/main amd64 libio-stringy-perl all 2.111-2 [60.6 kB]\n",
            "Get:41 http://archive.ubuntu.com/ubuntu bionic/main amd64 libparams-validate-perl amd64 1.29-1 [52.3 kB]\n",
            "Get:42 http://archive.ubuntu.com/ubuntu bionic/main amd64 libgetopt-long-descriptive-perl all 0.102-1 [24.4 kB]\n",
            "Get:43 http://archive.ubuntu.com/ubuntu bionic/main amd64 libhtml-tagset-perl all 3.20-3 [12.1 kB]\n",
            "Get:44 http://archive.ubuntu.com/ubuntu bionic/main amd64 liburi-perl all 1.73-1 [77.2 kB]\n",
            "Get:45 http://archive.ubuntu.com/ubuntu bionic/main amd64 libhtml-parser-perl amd64 3.72-3build1 [85.9 kB]\n",
            "Get:46 http://archive.ubuntu.com/ubuntu bionic/main amd64 libtimedate-perl all 2.3000-2 [37.5 kB]\n",
            "Get:47 http://archive.ubuntu.com/ubuntu bionic/main amd64 libhttp-date-perl all 6.02-1 [10.4 kB]\n",
            "Get:48 http://archive.ubuntu.com/ubuntu bionic/main amd64 libio-html-perl all 1.001-1 [14.9 kB]\n",
            "Get:49 http://archive.ubuntu.com/ubuntu bionic/main amd64 liblwp-mediatypes-perl all 6.02-1 [21.7 kB]\n",
            "Get:50 http://archive.ubuntu.com/ubuntu bionic/main amd64 libhttp-message-perl all 6.14-1 [72.1 kB]\n",
            "Get:51 http://archive.ubuntu.com/ubuntu bionic/main amd64 libimport-into-perl all 1.002005-1 [11.0 kB]\n",
            "Get:52 http://archive.ubuntu.com/ubuntu bionic/universe amd64 libmodule-signature-perl all 0.81-1 [22.9 kB]\n",
            "Get:53 http://archive.ubuntu.com/ubuntu bionic/main amd64 libsub-quote-perl all 2.005000-1 [17.0 kB]\n",
            "Get:54 http://archive.ubuntu.com/ubuntu bionic/main amd64 libmoo-perl all 2.003004-1 [45.5 kB]\n",
            "Get:55 http://archive.ubuntu.com/ubuntu bionic/universe amd64 libmoox-handlesvia-perl all 0.001008-3 [17.6 kB]\n",
            "Get:56 http://archive.ubuntu.com/ubuntu bionic/main amd64 libpackage-stash-perl all 0.37-1 [18.3 kB]\n",
            "Get:57 http://archive.ubuntu.com/ubuntu bionic/main amd64 libsub-identify-perl amd64 0.14-1 [10.5 kB]\n",
            "Get:58 http://archive.ubuntu.com/ubuntu bionic/main amd64 libsub-name-perl amd64 0.21-1build1 [11.6 kB]\n",
            "Get:59 http://archive.ubuntu.com/ubuntu bionic/main amd64 libnamespace-clean-perl all 0.27-1 [13.6 kB]\n",
            "Get:60 http://archive.ubuntu.com/ubuntu bionic/universe amd64 libnamespace-autoclean-perl all 0.28-1 [12.5 kB]\n",
            "Get:61 http://archive.ubuntu.com/ubuntu bionic/main amd64 libpackage-stash-xs-perl amd64 0.28-3build2 [16.4 kB]\n",
            "Get:62 http://archive.ubuntu.com/ubuntu bionic/main amd64 libpath-tiny-perl all 0.104-1 [55.3 kB]\n",
            "Get:63 http://archive.ubuntu.com/ubuntu bionic/universe amd64 libpod-markdown-perl all 3.005000-1 [27.9 kB]\n",
            "Get:64 http://archive.ubuntu.com/ubuntu bionic/universe amd64 libtype-tiny-perl all 1.002001-1 [226 kB]\n",
            "Get:65 http://archive.ubuntu.com/ubuntu bionic/universe amd64 libpod-readme-perl all 1.1.2-2 [32.9 kB]\n",
            "Get:66 http://archive.ubuntu.com/ubuntu bionic/universe amd64 libreadonly-perl all 2.050-1 [19.8 kB]\n",
            "Get:67 http://archive.ubuntu.com/ubuntu bionic/universe amd64 libref-util-perl all 0.203-1 [14.8 kB]\n",
            "Get:68 http://archive.ubuntu.com/ubuntu bionic/universe amd64 libref-util-xs-perl amd64 0.116-1 [11.5 kB]\n",
            "Get:69 http://archive.ubuntu.com/ubuntu bionic/universe amd64 libtext-template-perl all 1.47-1 [46.9 kB]\n",
            "Get:70 http://archive.ubuntu.com/ubuntu bionic/universe amd64 libsoftware-license-perl all 0.103012-1 [108 kB]\n",
            "Get:71 http://archive.ubuntu.com/ubuntu bionic/universe amd64 libtype-tiny-xs-perl amd64 0.012-2 [22.8 kB]\n",
            "Get:72 http://archive.ubuntu.com/ubuntu bionic/main amd64 libunicode-utf8-perl amd64 0.60-1build4 [17.9 kB]\n",
            "Fetched 2,249 kB in 1s (1,585 kB/s)\n",
            "Extracting templates from packages: 100%\n",
            "Selecting previously unselected package libcpan-distnameinfo-perl.\n",
            "(Reading database ... 160706 files and directories currently installed.)\n",
            "Preparing to unpack .../00-libcpan-distnameinfo-perl_0.12-1_all.deb ...\n",
            "Unpacking libcpan-distnameinfo-perl (0.12-1) ...\n",
            "Selecting previously unselected package libcpan-meta-check-perl.\n",
            "Preparing to unpack .../01-libcpan-meta-check-perl_0.014-1_all.deb ...\n",
            "Unpacking libcpan-meta-check-perl (0.014-1) ...\n",
            "Selecting previously unselected package libfile-pushd-perl.\n",
            "Preparing to unpack .../02-libfile-pushd-perl_1.014-1_all.deb ...\n",
            "Unpacking libfile-pushd-perl (1.014-1) ...\n",
            "Selecting previously unselected package libmodule-build-perl.\n",
            "Preparing to unpack .../03-libmodule-build-perl_0.422400-1_all.deb ...\n",
            "Adding 'diversion of /usr/bin/config_data to /usr/bin/config_data.diverted by libmodule-build-perl'\n",
            "Adding 'diversion of /usr/share/man/man1/config_data.1.gz to /usr/share/man/man1/config_data.diverted.1.gz by libmodule-build-perl'\n",
            "Unpacking libmodule-build-perl (0.422400-1) ...\n",
            "Selecting previously unselected package liblocal-lib-perl.\n",
            "Preparing to unpack .../04-liblocal-lib-perl_2.000024-1_all.deb ...\n",
            "Unpacking liblocal-lib-perl (2.000024-1) ...\n",
            "Selecting previously unselected package libmodule-cpanfile-perl.\n",
            "Preparing to unpack .../05-libmodule-cpanfile-perl_1.1002-1_all.deb ...\n",
            "Unpacking libmodule-cpanfile-perl (1.1002-1) ...\n",
            "Selecting previously unselected package libparse-pmfile-perl.\n",
            "Preparing to unpack .../06-libparse-pmfile-perl_0.41-1_all.deb ...\n",
            "Unpacking libparse-pmfile-perl (0.41-1) ...\n",
            "Selecting previously unselected package libstring-shellquote-perl.\n",
            "Preparing to unpack .../07-libstring-shellquote-perl_1.04-1_all.deb ...\n",
            "Unpacking libstring-shellquote-perl (1.04-1) ...\n",
            "Selecting previously unselected package cpanminus.\n",
            "Preparing to unpack .../08-cpanminus_1.7043-1_all.deb ...\n",
            "Unpacking cpanminus (1.7043-1) ...\n",
            "Selecting previously unselected package libalgorithm-c3-perl.\n",
            "Preparing to unpack .../09-libalgorithm-c3-perl_0.10-1_all.deb ...\n",
            "Unpacking libalgorithm-c3-perl (0.10-1) ...\n",
            "Selecting previously unselected package libb-hooks-op-check-perl.\n",
            "Preparing to unpack .../10-libb-hooks-op-check-perl_0.22-1_amd64.deb ...\n",
            "Unpacking libb-hooks-op-check-perl (0.22-1) ...\n",
            "Selecting previously unselected package libdynaloader-functions-perl.\n",
            "Preparing to unpack .../11-libdynaloader-functions-perl_0.003-1_all.deb ...\n",
            "Unpacking libdynaloader-functions-perl (0.003-1) ...\n",
            "Selecting previously unselected package libdevel-callchecker-perl.\n",
            "Preparing to unpack .../12-libdevel-callchecker-perl_0.007-2build1_amd64.deb ...\n",
            "Unpacking libdevel-callchecker-perl (0.007-2build1) ...\n",
            "Selecting previously unselected package libparams-classify-perl.\n",
            "Preparing to unpack .../13-libparams-classify-perl_0.015-1_amd64.deb ...\n",
            "Unpacking libparams-classify-perl (0.015-1) ...\n",
            "Selecting previously unselected package libmodule-runtime-perl.\n",
            "Preparing to unpack .../14-libmodule-runtime-perl_0.016-1_all.deb ...\n",
            "Unpacking libmodule-runtime-perl (0.016-1) ...\n",
            "Selecting previously unselected package libtry-tiny-perl.\n",
            "Preparing to unpack .../15-libtry-tiny-perl_0.30-1_all.deb ...\n",
            "Unpacking libtry-tiny-perl (0.30-1) ...\n",
            "Selecting previously unselected package libmodule-implementation-perl.\n",
            "Preparing to unpack .../16-libmodule-implementation-perl_0.09-1_all.deb ...\n",
            "Unpacking libmodule-implementation-perl (0.09-1) ...\n",
            "Selecting previously unselected package libsub-exporter-progressive-perl.\n",
            "Preparing to unpack .../17-libsub-exporter-progressive-perl_0.001013-1_all.deb ...\n",
            "Unpacking libsub-exporter-progressive-perl (0.001013-1) ...\n",
            "Selecting previously unselected package libvariable-magic-perl.\n",
            "Preparing to unpack .../18-libvariable-magic-perl_0.62-1_amd64.deb ...\n",
            "Unpacking libvariable-magic-perl (0.62-1) ...\n",
            "Selecting previously unselected package libb-hooks-endofscope-perl.\n",
            "Preparing to unpack .../19-libb-hooks-endofscope-perl_0.21-1_all.deb ...\n",
            "Unpacking libb-hooks-endofscope-perl (0.21-1) ...\n",
            "Selecting previously unselected package libclass-c3-perl.\n",
            "Preparing to unpack .../20-libclass-c3-perl_0.33-1_all.deb ...\n",
            "Unpacking libclass-c3-perl (0.33-1) ...\n",
            "Selecting previously unselected package libclass-c3-xs-perl.\n",
            "Preparing to unpack .../21-libclass-c3-xs-perl_0.14-1build3_amd64.deb ...\n",
            "Unpacking libclass-c3-xs-perl (0.14-1build3) ...\n",
            "Selecting previously unselected package libclass-method-modifiers-perl.\n",
            "Preparing to unpack .../22-libclass-method-modifiers-perl_2.12-1_all.deb ...\n",
            "Unpacking libclass-method-modifiers-perl (2.12-1) ...\n",
            "Selecting previously unselected package libclass-xsaccessor-perl.\n",
            "Preparing to unpack .../23-libclass-xsaccessor-perl_1.19-2build8_amd64.deb ...\n",
            "Unpacking libclass-xsaccessor-perl (1.19-2build8) ...\n",
            "Selecting previously unselected package libcpan-changes-perl.\n",
            "Preparing to unpack .../24-libcpan-changes-perl_0.400002-1_all.deb ...\n",
            "Unpacking libcpan-changes-perl (0.400002-1) ...\n",
            "Selecting previously unselected package libparams-util-perl.\n",
            "Preparing to unpack .../25-libparams-util-perl_1.07-3build3_amd64.deb ...\n",
            "Unpacking libparams-util-perl (1.07-3build3) ...\n",
            "Selecting previously unselected package libsub-install-perl.\n",
            "Preparing to unpack .../26-libsub-install-perl_0.928-1_all.deb ...\n",
            "Unpacking libsub-install-perl (0.928-1) ...\n",
            "Selecting previously unselected package libdata-optlist-perl.\n",
            "Preparing to unpack .../27-libdata-optlist-perl_0.110-1_all.deb ...\n",
            "Unpacking libdata-optlist-perl (0.110-1) ...\n",
            "Selecting previously unselected package libexporter-tiny-perl.\n",
            "Preparing to unpack .../28-libexporter-tiny-perl_1.000000-2_all.deb ...\n",
            "Unpacking libexporter-tiny-perl (1.000000-2) ...\n",
            "Selecting previously unselected package liblist-moreutils-perl.\n",
            "Preparing to unpack .../29-liblist-moreutils-perl_0.416-1build3_amd64.deb ...\n",
            "Unpacking liblist-moreutils-perl (0.416-1build3) ...\n",
            "Selecting previously unselected package librole-tiny-perl.\n",
            "Preparing to unpack .../30-librole-tiny-perl_2.000006-1_all.deb ...\n",
            "Unpacking librole-tiny-perl (2.000006-1) ...\n",
            "Selecting previously unselected package libstrictures-perl.\n",
            "Preparing to unpack .../31-libstrictures-perl_2.000003-1_all.deb ...\n",
            "Unpacking libstrictures-perl (2.000003-1) ...\n",
            "Selecting previously unselected package libdata-perl-perl.\n",
            "Preparing to unpack .../32-libdata-perl-perl_0.002009-2_all.deb ...\n",
            "Unpacking libdata-perl-perl (0.002009-2) ...\n",
            "Selecting previously unselected package libmro-compat-perl.\n",
            "Preparing to unpack .../33-libmro-compat-perl_0.13-1_all.deb ...\n",
            "Unpacking libmro-compat-perl (0.13-1) ...\n",
            "Selecting previously unselected package libsub-exporter-perl.\n",
            "Preparing to unpack .../34-libsub-exporter-perl_0.987-1_all.deb ...\n",
            "Unpacking libsub-exporter-perl (0.987-1) ...\n",
            "Selecting previously unselected package libdata-section-perl.\n",
            "Preparing to unpack .../35-libdata-section-perl_0.200007-1_all.deb ...\n",
            "Unpacking libdata-section-perl (0.200007-1) ...\n",
            "Selecting previously unselected package libdevel-globaldestruction-perl.\n",
            "Preparing to unpack .../36-libdevel-globaldestruction-perl_0.14-1_all.deb ...\n",
            "Unpacking libdevel-globaldestruction-perl (0.14-1) ...\n",
            "Selecting previously unselected package libencode-locale-perl.\n",
            "Preparing to unpack .../37-libencode-locale-perl_1.05-1_all.deb ...\n",
            "Unpacking libencode-locale-perl (1.05-1) ...\n",
            "Selecting previously unselected package libfile-slurp-perl.\n",
            "Preparing to unpack .../38-libfile-slurp-perl_9999.19-6_all.deb ...\n",
            "Unpacking libfile-slurp-perl (9999.19-6) ...\n",
            "Selecting previously unselected package libio-stringy-perl.\n",
            "Preparing to unpack .../39-libio-stringy-perl_2.111-2_all.deb ...\n",
            "Unpacking libio-stringy-perl (2.111-2) ...\n",
            "Selecting previously unselected package libparams-validate-perl.\n",
            "Preparing to unpack .../40-libparams-validate-perl_1.29-1_amd64.deb ...\n",
            "Unpacking libparams-validate-perl (1.29-1) ...\n",
            "Selecting previously unselected package libgetopt-long-descriptive-perl.\n",
            "Preparing to unpack .../41-libgetopt-long-descriptive-perl_0.102-1_all.deb ...\n",
            "Unpacking libgetopt-long-descriptive-perl (0.102-1) ...\n",
            "Selecting previously unselected package libhtml-tagset-perl.\n",
            "Preparing to unpack .../42-libhtml-tagset-perl_3.20-3_all.deb ...\n",
            "Unpacking libhtml-tagset-perl (3.20-3) ...\n",
            "Selecting previously unselected package liburi-perl.\n",
            "Preparing to unpack .../43-liburi-perl_1.73-1_all.deb ...\n",
            "Unpacking liburi-perl (1.73-1) ...\n",
            "Selecting previously unselected package libhtml-parser-perl.\n",
            "Preparing to unpack .../44-libhtml-parser-perl_3.72-3build1_amd64.deb ...\n",
            "Unpacking libhtml-parser-perl (3.72-3build1) ...\n",
            "Selecting previously unselected package libtimedate-perl.\n",
            "Preparing to unpack .../45-libtimedate-perl_2.3000-2_all.deb ...\n",
            "Unpacking libtimedate-perl (2.3000-2) ...\n",
            "Selecting previously unselected package libhttp-date-perl.\n",
            "Preparing to unpack .../46-libhttp-date-perl_6.02-1_all.deb ...\n",
            "Unpacking libhttp-date-perl (6.02-1) ...\n",
            "Selecting previously unselected package libio-html-perl.\n",
            "Preparing to unpack .../47-libio-html-perl_1.001-1_all.deb ...\n",
            "Unpacking libio-html-perl (1.001-1) ...\n",
            "Selecting previously unselected package liblwp-mediatypes-perl.\n",
            "Preparing to unpack .../48-liblwp-mediatypes-perl_6.02-1_all.deb ...\n",
            "Unpacking liblwp-mediatypes-perl (6.02-1) ...\n",
            "Selecting previously unselected package libhttp-message-perl.\n",
            "Preparing to unpack .../49-libhttp-message-perl_6.14-1_all.deb ...\n",
            "Unpacking libhttp-message-perl (6.14-1) ...\n",
            "Selecting previously unselected package libimport-into-perl.\n",
            "Preparing to unpack .../50-libimport-into-perl_1.002005-1_all.deb ...\n",
            "Unpacking libimport-into-perl (1.002005-1) ...\n",
            "Selecting previously unselected package libmodule-signature-perl.\n",
            "Preparing to unpack .../51-libmodule-signature-perl_0.81-1_all.deb ...\n",
            "Unpacking libmodule-signature-perl (0.81-1) ...\n",
            "Selecting previously unselected package libsub-quote-perl.\n",
            "Preparing to unpack .../52-libsub-quote-perl_2.005000-1_all.deb ...\n",
            "Unpacking libsub-quote-perl (2.005000-1) ...\n",
            "Selecting previously unselected package libmoo-perl.\n",
            "Preparing to unpack .../53-libmoo-perl_2.003004-1_all.deb ...\n",
            "Unpacking libmoo-perl (2.003004-1) ...\n",
            "Selecting previously unselected package libmoox-handlesvia-perl.\n",
            "Preparing to unpack .../54-libmoox-handlesvia-perl_0.001008-3_all.deb ...\n",
            "Unpacking libmoox-handlesvia-perl (0.001008-3) ...\n",
            "Selecting previously unselected package libpackage-stash-perl.\n",
            "Preparing to unpack .../55-libpackage-stash-perl_0.37-1_all.deb ...\n",
            "Unpacking libpackage-stash-perl (0.37-1) ...\n",
            "Selecting previously unselected package libsub-identify-perl.\n",
            "Preparing to unpack .../56-libsub-identify-perl_0.14-1_amd64.deb ...\n",
            "Unpacking libsub-identify-perl (0.14-1) ...\n",
            "Selecting previously unselected package libsub-name-perl.\n",
            "Preparing to unpack .../57-libsub-name-perl_0.21-1build1_amd64.deb ...\n",
            "Unpacking libsub-name-perl (0.21-1build1) ...\n",
            "Selecting previously unselected package libnamespace-clean-perl.\n",
            "Preparing to unpack .../58-libnamespace-clean-perl_0.27-1_all.deb ...\n",
            "Unpacking libnamespace-clean-perl (0.27-1) ...\n",
            "Selecting previously unselected package libnamespace-autoclean-perl.\n",
            "Preparing to unpack .../59-libnamespace-autoclean-perl_0.28-1_all.deb ...\n",
            "Unpacking libnamespace-autoclean-perl (0.28-1) ...\n",
            "Selecting previously unselected package libpackage-stash-xs-perl.\n",
            "Preparing to unpack .../60-libpackage-stash-xs-perl_0.28-3build2_amd64.deb ...\n",
            "Unpacking libpackage-stash-xs-perl (0.28-3build2) ...\n",
            "Selecting previously unselected package libpath-tiny-perl.\n",
            "Preparing to unpack .../61-libpath-tiny-perl_0.104-1_all.deb ...\n",
            "Unpacking libpath-tiny-perl (0.104-1) ...\n",
            "Selecting previously unselected package libpod-markdown-perl.\n",
            "Preparing to unpack .../62-libpod-markdown-perl_3.005000-1_all.deb ...\n",
            "Unpacking libpod-markdown-perl (3.005000-1) ...\n",
            "Selecting previously unselected package libtype-tiny-perl.\n",
            "Preparing to unpack .../63-libtype-tiny-perl_1.002001-1_all.deb ...\n",
            "Unpacking libtype-tiny-perl (1.002001-1) ...\n",
            "Selecting previously unselected package libpod-readme-perl.\n",
            "Preparing to unpack .../64-libpod-readme-perl_1.1.2-2_all.deb ...\n",
            "Unpacking libpod-readme-perl (1.1.2-2) ...\n",
            "Selecting previously unselected package libreadonly-perl.\n",
            "Preparing to unpack .../65-libreadonly-perl_2.050-1_all.deb ...\n",
            "Unpacking libreadonly-perl (2.050-1) ...\n",
            "Selecting previously unselected package libref-util-perl.\n",
            "Preparing to unpack .../66-libref-util-perl_0.203-1_all.deb ...\n",
            "Unpacking libref-util-perl (0.203-1) ...\n",
            "Selecting previously unselected package libref-util-xs-perl.\n",
            "Preparing to unpack .../67-libref-util-xs-perl_0.116-1_amd64.deb ...\n",
            "Unpacking libref-util-xs-perl (0.116-1) ...\n",
            "Selecting previously unselected package libtext-template-perl.\n",
            "Preparing to unpack .../68-libtext-template-perl_1.47-1_all.deb ...\n",
            "Unpacking libtext-template-perl (1.47-1) ...\n",
            "Selecting previously unselected package libsoftware-license-perl.\n",
            "Preparing to unpack .../69-libsoftware-license-perl_0.103012-1_all.deb ...\n",
            "Unpacking libsoftware-license-perl (0.103012-1) ...\n",
            "Selecting previously unselected package libtype-tiny-xs-perl.\n",
            "Preparing to unpack .../70-libtype-tiny-xs-perl_0.012-2_amd64.deb ...\n",
            "Unpacking libtype-tiny-xs-perl (0.012-2) ...\n",
            "Selecting previously unselected package libunicode-utf8-perl.\n",
            "Preparing to unpack .../71-libunicode-utf8-perl_0.60-1build4_amd64.deb ...\n",
            "Unpacking libunicode-utf8-perl (0.60-1build4) ...\n",
            "Setting up libhtml-tagset-perl (3.20-3) ...\n",
            "Setting up libpath-tiny-perl (0.104-1) ...\n",
            "Setting up libclass-c3-xs-perl (0.14-1build3) ...\n",
            "Setting up libsub-install-perl (0.928-1) ...\n",
            "Setting up libio-stringy-perl (2.111-2) ...\n",
            "Setting up libcpan-distnameinfo-perl (0.12-1) ...\n",
            "Setting up libsub-exporter-progressive-perl (0.001013-1) ...\n",
            "Setting up libtry-tiny-perl (0.30-1) ...\n",
            "Setting up libfile-slurp-perl (9999.19-6) ...\n",
            "Setting up libclass-method-modifiers-perl (2.12-1) ...\n",
            "Setting up libencode-locale-perl (1.05-1) ...\n",
            "Setting up libvariable-magic-perl (0.62-1) ...\n",
            "Setting up libtimedate-perl (2.3000-2) ...\n",
            "Setting up librole-tiny-perl (2.000006-1) ...\n",
            "Setting up libstring-shellquote-perl (1.04-1) ...\n",
            "Setting up libb-hooks-op-check-perl (0.22-1) ...\n",
            "Setting up libio-html-perl (1.001-1) ...\n",
            "Setting up libexporter-tiny-perl (1.000000-2) ...\n",
            "Setting up libmodule-cpanfile-perl (1.1002-1) ...\n",
            "Setting up libtype-tiny-xs-perl (0.012-2) ...\n",
            "Setting up libsub-identify-perl (0.14-1) ...\n",
            "Setting up libref-util-perl (0.203-1) ...\n",
            "Setting up libdynaloader-functions-perl (0.003-1) ...\n",
            "Setting up libparse-pmfile-perl (0.41-1) ...\n",
            "Setting up libfile-pushd-perl (1.014-1) ...\n",
            "Setting up libcpan-meta-check-perl (0.014-1) ...\n",
            "Setting up libpackage-stash-xs-perl (0.28-3build2) ...\n",
            "Setting up libstrictures-perl (2.000003-1) ...\n",
            "Setting up libmodule-signature-perl (0.81-1) ...\n",
            "Setting up libreadonly-perl (2.050-1) ...\n",
            "Setting up liblwp-mediatypes-perl (6.02-1) ...\n",
            "Setting up libref-util-xs-perl (0.116-1) ...\n",
            "Setting up liburi-perl (1.73-1) ...\n",
            "Setting up libhtml-parser-perl (3.72-3build1) ...\n",
            "Setting up libdevel-globaldestruction-perl (0.14-1) ...\n",
            "Setting up libpod-markdown-perl (3.005000-1) ...\n",
            "Setting up libclass-xsaccessor-perl (1.19-2build8) ...\n",
            "Setting up libcpan-changes-perl (0.400002-1) ...\n",
            "Setting up libunicode-utf8-perl (0.60-1build4) ...\n",
            "Setting up libmodule-build-perl (0.422400-1) ...\n",
            "Setting up libparams-util-perl (1.07-3build3) ...\n",
            "Setting up libsub-name-perl (0.21-1build1) ...\n",
            "Setting up libsub-quote-perl (2.005000-1) ...\n",
            "Setting up libtext-template-perl (1.47-1) ...\n",
            "Setting up libalgorithm-c3-perl (0.10-1) ...\n",
            "Setting up libclass-c3-perl (0.33-1) ...\n",
            "Setting up liblocal-lib-perl (2.000024-1) ...\n",
            "Setting up liblist-moreutils-perl (0.416-1build3) ...\n",
            "Setting up libdata-optlist-perl (0.110-1) ...\n",
            "Setting up libhttp-date-perl (6.02-1) ...\n",
            "Setting up libtype-tiny-perl (1.002001-1) ...\n",
            "Setting up libdevel-callchecker-perl (0.007-2build1) ...\n",
            "Setting up cpanminus (1.7043-1) ...\n",
            "Setting up libmro-compat-perl (0.13-1) ...\n",
            "Setting up libsub-exporter-perl (0.987-1) ...\n",
            "Setting up libhttp-message-perl (6.14-1) ...\n",
            "Setting up libparams-classify-perl (0.015-1) ...\n",
            "Setting up libdata-section-perl (0.200007-1) ...\n",
            "Setting up libmodule-runtime-perl (0.016-1) ...\n",
            "Setting up libsoftware-license-perl (0.103012-1) ...\n",
            "Setting up libdata-perl-perl (0.002009-2) ...\n",
            "Setting up libimport-into-perl (1.002005-1) ...\n",
            "Setting up libmodule-implementation-perl (0.09-1) ...\n",
            "Setting up libparams-validate-perl (1.29-1) ...\n",
            "Setting up libmoo-perl (2.003004-1) ...\n",
            "Setting up libb-hooks-endofscope-perl (0.21-1) ...\n",
            "Setting up libpackage-stash-perl (0.37-1) ...\n",
            "Setting up libgetopt-long-descriptive-perl (0.102-1) ...\n",
            "Setting up libmoox-handlesvia-perl (0.001008-3) ...\n",
            "Setting up libnamespace-clean-perl (0.27-1) ...\n",
            "Setting up libnamespace-autoclean-perl (0.28-1) ...\n",
            "Setting up libpod-readme-perl (1.1.2-2) ...\n",
            "Processing triggers for man-db (2.8.3-2ubuntu0.1) ...\n",
            "--> Working on XML::Parser\n",
            "Fetching http://www.cpan.org/authors/id/T/TO/TODDR/XML-Parser-2.46.tar.gz ... OK\n",
            "Configuring XML-Parser-2.46 ... OK\n",
            "==> Found dependencies: LWP::UserAgent\n",
            "--> Working on LWP::UserAgent\n",
            "Fetching http://www.cpan.org/authors/id/O/OA/OALDERS/libwww-perl-6.54.tar.gz ... OK\n",
            "Configuring libwww-perl-6.54 ... OK\n",
            "==> Found dependencies: HTTP::Negotiate, HTTP::Daemon, Test::Fatal, Net::HTTP, File::Listing, WWW::RobotRules, HTTP::Cookies, Test::Needs, Test::RequiresInternet\n",
            "--> Working on HTTP::Negotiate\n",
            "Fetching http://www.cpan.org/authors/id/G/GA/GAAS/HTTP-Negotiate-6.01.tar.gz ... OK\n",
            "Configuring HTTP-Negotiate-6.01 ... OK\n",
            "Building and testing HTTP-Negotiate-6.01 ... OK\n",
            "Successfully installed HTTP-Negotiate-6.01\n",
            "--> Working on HTTP::Daemon\n",
            "Fetching http://www.cpan.org/authors/id/O/OA/OALDERS/HTTP-Daemon-6.12.tar.gz ... OK\n",
            "==> Found dependencies: Module::Build::Tiny\n",
            "--> Working on Module::Build::Tiny\n",
            "Fetching http://www.cpan.org/authors/id/L/LE/LEONT/Module-Build-Tiny-0.039.tar.gz ... OK\n",
            "==> Found dependencies: ExtUtils::Helpers, ExtUtils::Config, ExtUtils::InstallPaths\n",
            "--> Working on ExtUtils::Helpers\n",
            "Fetching http://www.cpan.org/authors/id/L/LE/LEONT/ExtUtils-Helpers-0.026.tar.gz ... OK\n",
            "Configuring ExtUtils-Helpers-0.026 ... OK\n",
            "Building and testing ExtUtils-Helpers-0.026 ... OK\n",
            "Successfully installed ExtUtils-Helpers-0.026\n",
            "--> Working on ExtUtils::Config\n",
            "Fetching http://www.cpan.org/authors/id/L/LE/LEONT/ExtUtils-Config-0.008.tar.gz ... OK\n",
            "Configuring ExtUtils-Config-0.008 ... OK\n",
            "Building and testing ExtUtils-Config-0.008 ... OK\n",
            "Successfully installed ExtUtils-Config-0.008\n",
            "--> Working on ExtUtils::InstallPaths\n",
            "Fetching http://www.cpan.org/authors/id/L/LE/LEONT/ExtUtils-InstallPaths-0.012.tar.gz ... OK\n",
            "Configuring ExtUtils-InstallPaths-0.012 ... OK\n",
            "Building and testing ExtUtils-InstallPaths-0.012 ... OK\n",
            "Successfully installed ExtUtils-InstallPaths-0.012\n",
            "Configuring Module-Build-Tiny-0.039 ... OK\n",
            "Building and testing Module-Build-Tiny-0.039 ... OK\n",
            "Successfully installed Module-Build-Tiny-0.039\n",
            "Configuring HTTP-Daemon-6.12 ... OK\n",
            "==> Found dependencies: Test::Needs\n",
            "--> Working on Test::Needs\n",
            "Fetching http://www.cpan.org/authors/id/H/HA/HAARG/Test-Needs-0.002006.tar.gz ... OK\n",
            "Configuring Test-Needs-0.002006 ... OK\n",
            "Building and testing Test-Needs-0.002006 ... OK\n",
            "Successfully installed Test-Needs-0.002006\n",
            "Building and testing HTTP-Daemon-6.12 ... OK\n",
            "Successfully installed HTTP-Daemon-6.12\n",
            "--> Working on Test::Fatal\n",
            "Fetching http://www.cpan.org/authors/id/R/RJ/RJBS/Test-Fatal-0.016.tar.gz ... OK\n",
            "Configuring Test-Fatal-0.016 ... OK\n",
            "Building and testing Test-Fatal-0.016 ... OK\n",
            "Successfully installed Test-Fatal-0.016\n",
            "--> Working on Net::HTTP\n",
            "Fetching http://www.cpan.org/authors/id/O/OA/OALDERS/Net-HTTP-6.21.tar.gz ... OK\n",
            "Configuring Net-HTTP-6.21 ... OK\n",
            "Building and testing Net-HTTP-6.21 ... OK\n",
            "Successfully installed Net-HTTP-6.21\n",
            "--> Working on File::Listing\n",
            "Fetching http://www.cpan.org/authors/id/P/PL/PLICEASE/File-Listing-6.14.tar.gz ... OK\n",
            "Configuring File-Listing-6.14 ... OK\n",
            "Building and testing File-Listing-6.14 ... OK\n",
            "Successfully installed File-Listing-6.14\n",
            "--> Working on WWW::RobotRules\n",
            "Fetching http://www.cpan.org/authors/id/G/GA/GAAS/WWW-RobotRules-6.02.tar.gz ... OK\n",
            "Configuring WWW-RobotRules-6.02 ... OK\n",
            "Building and testing WWW-RobotRules-6.02 ... OK\n",
            "Successfully installed WWW-RobotRules-6.02\n",
            "--> Working on HTTP::Cookies\n",
            "Fetching http://www.cpan.org/authors/id/O/OA/OALDERS/HTTP-Cookies-6.10.tar.gz ... OK\n",
            "Configuring HTTP-Cookies-6.10 ... OK\n",
            "Building and testing HTTP-Cookies-6.10 ... OK\n",
            "Successfully installed HTTP-Cookies-6.10\n",
            "--> Working on Test::RequiresInternet\n",
            "Fetching http://www.cpan.org/authors/id/M/MA/MALLEN/Test-RequiresInternet-0.05.tar.gz ... OK\n",
            "Configuring Test-RequiresInternet-0.05 ... OK\n",
            "Building and testing Test-RequiresInternet-0.05 ... OK\n",
            "Successfully installed Test-RequiresInternet-0.05\n",
            "Building and testing libwww-perl-6.54 ... OK\n",
            "Successfully installed libwww-perl-6.54\n",
            "Building and testing XML-Parser-2.46 ... OK\n",
            "Successfully installed XML-Parser-2.46\n",
            "15 distributions installed\n"
          ],
          "name": "stdout"
        }
      ]
    },
    {
      "cell_type": "code",
      "metadata": {
        "id": "MN3ysLbb2Rdu",
        "colab": {
          "base_uri": "https://localhost:8080/"
        },
        "outputId": "f0f4f0c5-2d0c-432d-aa4c-15bdb08ca3f4"
      },
      "source": [
        "from pythonrouge.pythonrouge import Pythonrouge\n",
        "\n",
        "rouge_1_sum = 0\n",
        "rouge_2_sum = 0\n",
        "rouge_L_sum = 0\n",
        "\n",
        "for i in range(100):\n",
        "    original_string = seq2summary(y_val[i])\n",
        "    predicted_string = decode_sequence(x_val[i].reshape(1,max_text_len))\n",
        "\n",
        "    # system summary(predict) & reference summary\n",
        "    summary = [[predicted_string]]\n",
        "    reference = [[[original_string]]]\n",
        "\n",
        "    # initialize setting of ROUGE to eval ROUGE-1, 2, SU4\n",
        "    # if you evaluate ROUGE by sentence list as above, set summary_file_exist=False\n",
        "    # if recall_only=True, you can get recall scores of ROUGE\n",
        "    rouge = Pythonrouge(summary_file_exist=False,\n",
        "                        summary=summary, reference=reference,\n",
        "                        n_gram=2, ROUGE_SU4=False, ROUGE_L=True,\n",
        "                        recall_only=True, stemming=True, stopwords=True,\n",
        "                        word_level=True, length_limit=True, length=50,\n",
        "                        use_cf=False, cf=95, scoring_formula='average',\n",
        "                        resampling=True, samples=1000, favor=True, p=0.5)\n",
        "    score = rouge.calc_score()\n",
        "    rouge_1_sum = rouge_1_sum + score['ROUGE-1']\n",
        "    rouge_2_sum = rouge_2_sum + score['ROUGE-2']\n",
        "    rouge_L_sum = rouge_L_sum + score['ROUGE-L']\n",
        "\n",
        "print(\"\\nROUGE-1 : \", rouge_1_sum/100, \"  ROUGE-2 : \", rouge_2_sum/100, \"  ROUGE-L : \", rouge_L_sum/100, \"  Accuracy : \", max(history.history['val_accuracy']))"
      ],
      "execution_count": 42,
      "outputs": [
        {
          "output_type": "stream",
          "text": [
            "\n",
            "ROUGE-1 :  0.2966666   ROUGE-2 :  0.025   ROUGE-L :  0.2966666   Accuracy :  0.7272727489471436\n"
          ],
          "name": "stdout"
        }
      ]
    },
    {
      "cell_type": "code",
      "metadata": {
        "id": "uDfHqNYGiGU3",
        "colab": {
          "base_uri": "https://localhost:8080/",
          "height": 1000
        },
        "outputId": "d5a408aa-3957-4ddd-9488-77f295f247dd"
      },
      "source": [
        "!pip install colabcode"
      ],
      "execution_count": 43,
      "outputs": [
        {
          "output_type": "stream",
          "text": [
            "Collecting colabcode\n",
            "  Downloading https://files.pythonhosted.org/packages/33/f4/5c69125dd58eb86b1c668bf2a449120750b984d03bbcfd583ffcf3bfef48/colabcode-0.2.0-py3-none-any.whl\n",
            "Collecting uvicorn==0.13.1\n",
            "\u001b[?25l  Downloading https://files.pythonhosted.org/packages/ef/67/546c35e9fffb585ea0608ba3bdcafe17ae402e304367203d0b08d6c23051/uvicorn-0.13.1-py3-none-any.whl (45kB)\n",
            "\u001b[K     |████████████████████████████████| 51kB 8.7MB/s \n",
            "\u001b[?25hCollecting jupyterlab==3.0.7\n",
            "\u001b[?25l  Downloading https://files.pythonhosted.org/packages/90/27/149c258b8e80552ba1ad35636eca308776a284cb151cb8fcfff70adfbd0a/jupyterlab-3.0.7-py3-none-any.whl (8.3MB)\n",
            "\u001b[K     |████████████████████████████████| 8.3MB 34.5MB/s \n",
            "\u001b[?25hCollecting nest-asyncio==1.4.3\n",
            "  Downloading https://files.pythonhosted.org/packages/5c/33/10805a3359f56ac4f3b520e64b9d5e6a288d87be95777b8023c64cba60f1/nest_asyncio-1.4.3-py3-none-any.whl\n",
            "Collecting pyngrok>=5.0.0\n",
            "\u001b[?25l  Downloading https://files.pythonhosted.org/packages/6b/4e/a2fe095bbe17cf26424c4abcd22a0490e22d01cc628f25af5e220ddbf6f0/pyngrok-5.0.5.tar.gz (745kB)\n",
            "\u001b[K     |████████████████████████████████| 747kB 42.6MB/s \n",
            "\u001b[?25hRequirement already satisfied: click==7.* in /usr/local/lib/python3.7/dist-packages (from uvicorn==0.13.1->colabcode) (7.1.2)\n",
            "Requirement already satisfied: typing-extensions; python_version < \"3.8\" in /usr/local/lib/python3.7/dist-packages (from uvicorn==0.13.1->colabcode) (3.7.4.3)\n",
            "Collecting h11>=0.8\n",
            "\u001b[?25l  Downloading https://files.pythonhosted.org/packages/60/0f/7a0eeea938eaf61074f29fed9717f2010e8d0e0905d36b38d3275a1e4622/h11-0.12.0-py3-none-any.whl (54kB)\n",
            "\u001b[K     |████████████████████████████████| 61kB 10.8MB/s \n",
            "\u001b[?25hRequirement already satisfied: ipython in /usr/local/lib/python3.7/dist-packages (from jupyterlab==3.0.7->colabcode) (5.5.0)\n",
            "Collecting tornado>=6.1.0\n",
            "\u001b[?25l  Downloading https://files.pythonhosted.org/packages/91/a8/9c5902233fa3c2e6a889cbd164333ddda5009669f494e3fadbeee2c03af5/tornado-6.1-cp37-cp37m-manylinux2010_x86_64.whl (428kB)\n",
            "\u001b[K     |████████████████████████████████| 430kB 45.2MB/s \n",
            "\u001b[?25hCollecting nbclassic~=0.2\n",
            "  Downloading https://files.pythonhosted.org/packages/c7/ec/a56d6775abaab99c224a977dc907ff458986edaad8116ab75b6081867131/nbclassic-0.2.8-py3-none-any.whl\n",
            "Requirement already satisfied: jinja2>=2.10 in /usr/local/lib/python3.7/dist-packages (from jupyterlab==3.0.7->colabcode) (2.11.3)\n",
            "Collecting jupyter-server~=1.2\n",
            "\u001b[?25l  Downloading https://files.pythonhosted.org/packages/97/ca/d6f503c2f594f43d0d467f7ec34337541eb847a03c1f605e1be6cc4196d9/jupyter_server-1.7.0-py3-none-any.whl (382kB)\n",
            "\u001b[K     |████████████████████████████████| 389kB 46.1MB/s \n",
            "\u001b[?25hRequirement already satisfied: jupyter-core in /usr/local/lib/python3.7/dist-packages (from jupyterlab==3.0.7->colabcode) (4.7.1)\n",
            "Collecting jupyterlab-server~=2.0\n",
            "\u001b[?25l  Downloading https://files.pythonhosted.org/packages/2b/8a/eb527b9eda76a70a7343dd42bbc492d1824410f9310b0a798598963db5c9/jupyterlab_server-2.5.1-py3-none-any.whl (49kB)\n",
            "\u001b[K     |████████████████████████████████| 51kB 8.7MB/s \n",
            "\u001b[?25hRequirement already satisfied: packaging in /usr/local/lib/python3.7/dist-packages (from jupyterlab==3.0.7->colabcode) (20.9)\n",
            "Requirement already satisfied: PyYAML in /usr/local/lib/python3.7/dist-packages (from pyngrok>=5.0.0->colabcode) (3.13)\n",
            "Requirement already satisfied: setuptools>=18.5 in /usr/local/lib/python3.7/dist-packages (from ipython->jupyterlab==3.0.7->colabcode) (56.1.0)\n",
            "Requirement already satisfied: pygments in /usr/local/lib/python3.7/dist-packages (from ipython->jupyterlab==3.0.7->colabcode) (2.6.1)\n",
            "Requirement already satisfied: traitlets>=4.2 in /usr/local/lib/python3.7/dist-packages (from ipython->jupyterlab==3.0.7->colabcode) (5.0.5)\n",
            "Requirement already satisfied: pickleshare in /usr/local/lib/python3.7/dist-packages (from ipython->jupyterlab==3.0.7->colabcode) (0.7.5)\n",
            "Requirement already satisfied: pexpect; sys_platform != \"win32\" in /usr/local/lib/python3.7/dist-packages (from ipython->jupyterlab==3.0.7->colabcode) (4.8.0)\n",
            "Requirement already satisfied: decorator in /usr/local/lib/python3.7/dist-packages (from ipython->jupyterlab==3.0.7->colabcode) (4.4.2)\n",
            "Requirement already satisfied: prompt-toolkit<2.0.0,>=1.0.4 in /usr/local/lib/python3.7/dist-packages (from ipython->jupyterlab==3.0.7->colabcode) (1.0.18)\n",
            "Requirement already satisfied: simplegeneric>0.8 in /usr/local/lib/python3.7/dist-packages (from ipython->jupyterlab==3.0.7->colabcode) (0.8.1)\n",
            "Requirement already satisfied: notebook<7 in /usr/local/lib/python3.7/dist-packages (from nbclassic~=0.2->jupyterlab==3.0.7->colabcode) (5.3.1)\n",
            "Requirement already satisfied: MarkupSafe>=0.23 in /usr/local/lib/python3.7/dist-packages (from jinja2>=2.10->jupyterlab==3.0.7->colabcode) (1.1.1)\n",
            "Requirement already satisfied: nbconvert in /usr/local/lib/python3.7/dist-packages (from jupyter-server~=1.2->jupyterlab==3.0.7->colabcode) (5.6.1)\n",
            "Requirement already satisfied: terminado>=0.8.3 in /usr/local/lib/python3.7/dist-packages (from jupyter-server~=1.2->jupyterlab==3.0.7->colabcode) (0.9.4)\n",
            "Requirement already satisfied: nbformat in /usr/local/lib/python3.7/dist-packages (from jupyter-server~=1.2->jupyterlab==3.0.7->colabcode) (5.1.3)\n",
            "Requirement already satisfied: ipython-genutils in /usr/local/lib/python3.7/dist-packages (from jupyter-server~=1.2->jupyterlab==3.0.7->colabcode) (0.2.0)\n",
            "Collecting anyio<4,>=3.0.1; python_version >= \"3.7\"\n",
            "\u001b[?25l  Downloading https://files.pythonhosted.org/packages/23/75/8d31e0de8c87cb17aecde237def16383569737ae9e15d99ac54eafc61f78/anyio-3.0.1-py3-none-any.whl (72kB)\n",
            "\u001b[K     |████████████████████████████████| 81kB 12.5MB/s \n",
            "\u001b[?25hRequirement already satisfied: argon2-cffi in /usr/local/lib/python3.7/dist-packages (from jupyter-server~=1.2->jupyterlab==3.0.7->colabcode) (20.1.0)\n",
            "Requirement already satisfied: Send2Trash in /usr/local/lib/python3.7/dist-packages (from jupyter-server~=1.2->jupyterlab==3.0.7->colabcode) (1.5.0)\n",
            "Requirement already satisfied: pyzmq>=17 in /usr/local/lib/python3.7/dist-packages (from jupyter-server~=1.2->jupyterlab==3.0.7->colabcode) (22.0.3)\n",
            "Requirement already satisfied: prometheus-client in /usr/local/lib/python3.7/dist-packages (from jupyter-server~=1.2->jupyterlab==3.0.7->colabcode) (0.10.1)\n",
            "Collecting websocket-client\n",
            "\u001b[?25l  Downloading https://files.pythonhosted.org/packages/f7/0c/d52a2a63512a613817846d430d16a8fbe5ea56dd889e89c68facf6b91cb6/websocket_client-0.59.0-py2.py3-none-any.whl (67kB)\n",
            "\u001b[K     |████████████████████████████████| 71kB 11.5MB/s \n",
            "\u001b[?25hCollecting jupyter-client>=6.1.1\n",
            "\u001b[?25l  Downloading https://files.pythonhosted.org/packages/77/e8/c3cf72a32a697256608d5fa96360c431adec6e1c6709ba7f13f99ff5ee04/jupyter_client-6.1.12-py3-none-any.whl (112kB)\n",
            "\u001b[K     |████████████████████████████████| 122kB 58.9MB/s \n",
            "\u001b[?25hCollecting json5\n",
            "  Downloading https://files.pythonhosted.org/packages/2b/81/22bf51a5bc60dde18bb6164fd597f18ee683de8670e141364d9c432dd3cf/json5-0.9.5-py2.py3-none-any.whl\n",
            "Collecting jsonschema>=3.0.1\n",
            "\u001b[?25l  Downloading https://files.pythonhosted.org/packages/c5/8f/51e89ce52a085483359217bc72cdbf6e75ee595d5b1d4b5ade40c7e018b8/jsonschema-3.2.0-py2.py3-none-any.whl (56kB)\n",
            "\u001b[K     |████████████████████████████████| 61kB 11.3MB/s \n",
            "\u001b[?25hRequirement already satisfied: requests in /usr/local/lib/python3.7/dist-packages (from jupyterlab-server~=2.0->jupyterlab==3.0.7->colabcode) (2.23.0)\n",
            "Requirement already satisfied: babel in /usr/local/lib/python3.7/dist-packages (from jupyterlab-server~=2.0->jupyterlab==3.0.7->colabcode) (2.9.1)\n",
            "Requirement already satisfied: pyparsing>=2.0.2 in /usr/local/lib/python3.7/dist-packages (from packaging->jupyterlab==3.0.7->colabcode) (2.4.7)\n",
            "Requirement already satisfied: ptyprocess>=0.5 in /usr/local/lib/python3.7/dist-packages (from pexpect; sys_platform != \"win32\"->ipython->jupyterlab==3.0.7->colabcode) (0.7.0)\n",
            "Requirement already satisfied: wcwidth in /usr/local/lib/python3.7/dist-packages (from prompt-toolkit<2.0.0,>=1.0.4->ipython->jupyterlab==3.0.7->colabcode) (0.2.5)\n",
            "Requirement already satisfied: six>=1.9.0 in /usr/local/lib/python3.7/dist-packages (from prompt-toolkit<2.0.0,>=1.0.4->ipython->jupyterlab==3.0.7->colabcode) (1.15.0)\n",
            "Requirement already satisfied: ipykernel in /usr/local/lib/python3.7/dist-packages (from notebook<7->nbclassic~=0.2->jupyterlab==3.0.7->colabcode) (4.10.1)\n",
            "Requirement already satisfied: defusedxml in /usr/local/lib/python3.7/dist-packages (from nbconvert->jupyter-server~=1.2->jupyterlab==3.0.7->colabcode) (0.7.1)\n",
            "Requirement already satisfied: testpath in /usr/local/lib/python3.7/dist-packages (from nbconvert->jupyter-server~=1.2->jupyterlab==3.0.7->colabcode) (0.4.4)\n",
            "Requirement already satisfied: mistune<2,>=0.8.1 in /usr/local/lib/python3.7/dist-packages (from nbconvert->jupyter-server~=1.2->jupyterlab==3.0.7->colabcode) (0.8.4)\n",
            "Requirement already satisfied: bleach in /usr/local/lib/python3.7/dist-packages (from nbconvert->jupyter-server~=1.2->jupyterlab==3.0.7->colabcode) (3.3.0)\n",
            "Requirement already satisfied: entrypoints>=0.2.2 in /usr/local/lib/python3.7/dist-packages (from nbconvert->jupyter-server~=1.2->jupyterlab==3.0.7->colabcode) (0.3)\n",
            "Requirement already satisfied: pandocfilters>=1.4.1 in /usr/local/lib/python3.7/dist-packages (from nbconvert->jupyter-server~=1.2->jupyterlab==3.0.7->colabcode) (1.4.3)\n",
            "Requirement already satisfied: idna>=2.8 in /usr/local/lib/python3.7/dist-packages (from anyio<4,>=3.0.1; python_version >= \"3.7\"->jupyter-server~=1.2->jupyterlab==3.0.7->colabcode) (2.10)\n",
            "Collecting sniffio>=1.1\n",
            "  Downloading https://files.pythonhosted.org/packages/52/b0/7b2e028b63d092804b6794595871f936aafa5e9322dcaaad50ebf67445b3/sniffio-1.2.0-py3-none-any.whl\n",
            "Requirement already satisfied: cffi>=1.0.0 in /usr/local/lib/python3.7/dist-packages (from argon2-cffi->jupyter-server~=1.2->jupyterlab==3.0.7->colabcode) (1.14.5)\n",
            "Requirement already satisfied: python-dateutil>=2.1 in /usr/local/lib/python3.7/dist-packages (from jupyter-client>=6.1.1->jupyter-server~=1.2->jupyterlab==3.0.7->colabcode) (2.8.1)\n",
            "Requirement already satisfied: pyrsistent>=0.14.0 in /usr/local/lib/python3.7/dist-packages (from jsonschema>=3.0.1->jupyterlab-server~=2.0->jupyterlab==3.0.7->colabcode) (0.17.3)\n",
            "Requirement already satisfied: attrs>=17.4.0 in /usr/local/lib/python3.7/dist-packages (from jsonschema>=3.0.1->jupyterlab-server~=2.0->jupyterlab==3.0.7->colabcode) (21.2.0)\n",
            "Requirement already satisfied: importlib-metadata; python_version < \"3.8\" in /usr/local/lib/python3.7/dist-packages (from jsonschema>=3.0.1->jupyterlab-server~=2.0->jupyterlab==3.0.7->colabcode) (4.0.1)\n",
            "Requirement already satisfied: certifi>=2017.4.17 in /usr/local/lib/python3.7/dist-packages (from requests->jupyterlab-server~=2.0->jupyterlab==3.0.7->colabcode) (2020.12.5)\n",
            "Requirement already satisfied: urllib3!=1.25.0,!=1.25.1,<1.26,>=1.21.1 in /usr/local/lib/python3.7/dist-packages (from requests->jupyterlab-server~=2.0->jupyterlab==3.0.7->colabcode) (1.24.3)\n",
            "Requirement already satisfied: chardet<4,>=3.0.2 in /usr/local/lib/python3.7/dist-packages (from requests->jupyterlab-server~=2.0->jupyterlab==3.0.7->colabcode) (3.0.4)\n",
            "Requirement already satisfied: pytz>=2015.7 in /usr/local/lib/python3.7/dist-packages (from babel->jupyterlab-server~=2.0->jupyterlab==3.0.7->colabcode) (2018.9)\n",
            "Requirement already satisfied: webencodings in /usr/local/lib/python3.7/dist-packages (from bleach->nbconvert->jupyter-server~=1.2->jupyterlab==3.0.7->colabcode) (0.5.1)\n",
            "Requirement already satisfied: pycparser in /usr/local/lib/python3.7/dist-packages (from cffi>=1.0.0->argon2-cffi->jupyter-server~=1.2->jupyterlab==3.0.7->colabcode) (2.20)\n",
            "Requirement already satisfied: zipp>=0.5 in /usr/local/lib/python3.7/dist-packages (from importlib-metadata; python_version < \"3.8\"->jsonschema>=3.0.1->jupyterlab-server~=2.0->jupyterlab==3.0.7->colabcode) (3.4.1)\n",
            "Building wheels for collected packages: pyngrok\n",
            "  Building wheel for pyngrok (setup.py) ... \u001b[?25l\u001b[?25hdone\n",
            "  Created wheel for pyngrok: filename=pyngrok-5.0.5-cp37-none-any.whl size=19246 sha256=d31dea81af69564056497cc0b1b5549c55087ce2d600f4c2e9b0715933510456\n",
            "  Stored in directory: /root/.cache/pip/wheels/0c/13/64/5ebbcc22eaf53fdf5766b397c1fb17c83f5775fdccf0ea1b88\n",
            "Successfully built pyngrok\n",
            "\u001b[31mERROR: google-colab 1.0.0 has requirement tornado~=5.1.0; python_version >= \"3.0\", but you'll have tornado 6.1 which is incompatible.\u001b[0m\n",
            "Installing collected packages: h11, uvicorn, tornado, sniffio, anyio, websocket-client, jupyter-client, jupyter-server, nbclassic, json5, jsonschema, jupyterlab-server, jupyterlab, nest-asyncio, pyngrok, colabcode\n",
            "  Found existing installation: tornado 5.1.1\n",
            "    Uninstalling tornado-5.1.1:\n",
            "      Successfully uninstalled tornado-5.1.1\n",
            "  Found existing installation: jupyter-client 5.3.5\n",
            "    Uninstalling jupyter-client-5.3.5:\n",
            "      Successfully uninstalled jupyter-client-5.3.5\n",
            "  Found existing installation: jsonschema 2.6.0\n",
            "    Uninstalling jsonschema-2.6.0:\n",
            "      Successfully uninstalled jsonschema-2.6.0\n",
            "  Found existing installation: nest-asyncio 1.5.1\n",
            "    Uninstalling nest-asyncio-1.5.1:\n",
            "      Successfully uninstalled nest-asyncio-1.5.1\n",
            "Successfully installed anyio-3.0.1 colabcode-0.2.0 h11-0.12.0 json5-0.9.5 jsonschema-3.2.0 jupyter-client-6.1.12 jupyter-server-1.7.0 jupyterlab-3.0.7 jupyterlab-server-2.5.1 nbclassic-0.2.8 nest-asyncio-1.4.3 pyngrok-5.0.5 sniffio-1.2.0 tornado-6.1 uvicorn-0.13.1 websocket-client-0.59.0\n"
          ],
          "name": "stdout"
        },
        {
          "output_type": "display_data",
          "data": {
            "application/vnd.colab-display-data+json": {
              "pip_warning": {
                "packages": [
                  "jupyter_client",
                  "tornado"
                ]
              }
            }
          },
          "metadata": {
            "tags": []
          }
        }
      ]
    },
    {
      "cell_type": "code",
      "metadata": {
        "id": "upMotOeriJIt",
        "colab": {
          "base_uri": "https://localhost:8080/"
        },
        "outputId": "37a11612-e8f3-4dd0-98bb-4afe2ff978af"
      },
      "source": [
        "!pip install fastapi"
      ],
      "execution_count": 44,
      "outputs": [
        {
          "output_type": "stream",
          "text": [
            "Collecting fastapi\n",
            "\u001b[?25l  Downloading https://files.pythonhosted.org/packages/4e/b9/a91a699f5c201413b3f61405dbccc29ebe5ad25945230e9cec98fdb2434c/fastapi-0.65.1-py3-none-any.whl (50kB)\n",
            "\u001b[K     |████████████████████████████████| 51kB 7.8MB/s \n",
            "\u001b[?25hCollecting starlette==0.14.2\n",
            "\u001b[?25l  Downloading https://files.pythonhosted.org/packages/15/34/db1890f442a1cd3a2c761f4109a0eb4e63503218d70a8c8e97faa09a5500/starlette-0.14.2-py3-none-any.whl (60kB)\n",
            "\u001b[K     |████████████████████████████████| 61kB 9.5MB/s \n",
            "\u001b[?25hCollecting pydantic!=1.7,!=1.7.1,!=1.7.2,!=1.7.3,!=1.8,!=1.8.1,<2.0.0,>=1.6.2\n",
            "\u001b[?25l  Downloading https://files.pythonhosted.org/packages/9f/f2/2d5425efe57f6c4e06cbe5e587c1fd16929dcf0eb90bd4d3d1e1c97d1151/pydantic-1.8.2-cp37-cp37m-manylinux2014_x86_64.whl (10.1MB)\n",
            "\u001b[K     |████████████████████████████████| 10.1MB 40.8MB/s \n",
            "\u001b[?25hRequirement already satisfied: typing-extensions>=3.7.4.3 in /usr/local/lib/python3.7/dist-packages (from pydantic!=1.7,!=1.7.1,!=1.7.2,!=1.7.3,!=1.8,!=1.8.1,<2.0.0,>=1.6.2->fastapi) (3.7.4.3)\n",
            "Installing collected packages: starlette, pydantic, fastapi\n",
            "Successfully installed fastapi-0.65.1 pydantic-1.8.2 starlette-0.14.2\n"
          ],
          "name": "stdout"
        }
      ]
    },
    {
      "cell_type": "code",
      "metadata": {
        "id": "24g2k7FAiL5W"
      },
      "source": [
        "from pydantic import BaseModel\n",
        "\n",
        "class TextClass(BaseModel):\n",
        "    inp_text: str\n",
        "    class Config:\n",
        "        schema_extra = {\n",
        "            \"example\": {\n",
        "                \"inp_text\": \"The food is good. I like it.\"\n",
        "            }\n",
        "        }"
      ],
      "execution_count": 45,
      "outputs": []
    },
    {
      "cell_type": "code",
      "metadata": {
        "id": "C8bX7V34iPU9"
      },
      "source": [
        "from fastapi import FastAPI\n",
        "from fastapi.responses import HTMLResponse\n",
        "\n",
        "app = FastAPI()\n",
        "\n",
        "@app.on_event(\"startup\")\n",
        "def load_model():\n",
        "    print('Started.!!')\n",
        "\n",
        "@app.get('/')\n",
        "def index():\n",
        "    return {'message' : 'Welcome to our project : Automatic Text Summarizer demo'}\n",
        "\n",
        "\n",
        "@app.post('/predict')\n",
        "def get_summary(data: TextClass):\n",
        "    received = data.dict()\n",
        "    uinp = received['inp_text']\n",
        "    \n",
        "    cleaned_inp = []\n",
        "    cleaned_inp.append(text_cleaner(uinp,0))\n",
        "    \n",
        "    inp_seq = x_tokenizer.texts_to_sequences(cleaned_inp)\n",
        "    inp = pad_sequences(inp_seq, maxlen=max_text_len, padding='post')\n",
        "    \n",
        "    pred_name = decode_sequence(inp[0].reshape(1,max_text_len))\n",
        "\n",
        "    return {'prediction' : pred_name}"
      ],
      "execution_count": 46,
      "outputs": []
    },
    {
      "cell_type": "code",
      "metadata": {
        "id": "8XdwS1jIinVm"
      },
      "source": [
        "from colabcode import ColabCode\n",
        "server = ColabCode(port=10000, code=False)"
      ],
      "execution_count": 47,
      "outputs": []
    },
    {
      "cell_type": "code",
      "metadata": {
        "id": "PYq1iEshipwm",
        "colab": {
          "base_uri": "https://localhost:8080/"
        },
        "outputId": "a1823af8-5de4-4295-c883-91d2a95ae5b1"
      },
      "source": [
        "server.run_app(app=app)"
      ],
      "execution_count": null,
      "outputs": [
        {
          "output_type": "stream",
          "text": [
            "Public URL: NgrokTunnel: \"http://71e47272c94e.ngrok.io\" -> \"http://localhost:10000\"\n"
          ],
          "name": "stdout"
        }
      ]
    }
  ]
}